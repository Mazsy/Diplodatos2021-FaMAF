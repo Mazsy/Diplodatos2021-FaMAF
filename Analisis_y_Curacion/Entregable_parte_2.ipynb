{
 "cells": [
  {
   "cell_type": "markdown",
   "metadata": {
    "id": "view-in-github"
   },
   "source": [
    "<a href=\"https://colab.research.google.com/github/DiploDatos/AnalisisYCuracion/blob/master/Entregable_Parte_2.ipynb\" target=\"_parent\"><img src=\"https://colab.research.google.com/assets/colab-badge.svg\" alt=\"Open In Colab\"/></a>"
   ]
  },
  {
   "cell_type": "markdown",
   "metadata": {
    "id": "zO4bRoxr2Apy"
   },
   "source": [
    "**Diplomatura en Ciencia de Datos, Aprendizaje Automático y sus Aplicaciones**\n",
    "\n",
    "**Exploración y Curación de Datos**\n",
    "\n",
    "*Edición 2021*\n",
    "\n",
    "----\n",
    "\n",
    "# Trabajo práctico entregable - parte 2\n",
    "\n",
    "\n",
    "En el ejercicio 1 de la parte 1 del entregable seleccionaron las filas y columnas relevantes al problema de predicción de precios de una propiedad. Además de ello, tuvieron que reducir el número de valores posibles para las variables categóricas utilizando información de dominio.\n",
    "\n",
    "En el ejercicio 2 de la parte 1 del entregable imputaron los valores faltantes de las columnas `Suburb` y las columnas obtenidas a partir del conjunto de datos `airbnb`.\n",
    "\n",
    "En esta notebook, **se utilizará resultado de dichas operaciones.**\n"
   ]
  },
  {
   "cell_type": "code",
   "execution_count": 1,
   "metadata": {
    "id": "4udjxjk1EtVU"
   },
   "outputs": [],
   "source": [
    "import matplotlib.pyplot as plt\n",
    "import seaborn as sns\n",
    "import numpy\n",
    "import pandas\n",
    "import requests\n",
    "from io import StringIO\n",
    "\n",
    "import seaborn\n",
    "seaborn.set_context('talk')"
   ]
  },
  {
   "cell_type": "code",
   "execution_count": null,
   "metadata": {
    "id": "J3YZj3-42ZIA"
   },
   "outputs": [],
   "source": [
    "# link del csv compartido \n",
    "# https://drive.google.com/file/d/1tgyexpYaGGm47Z-SPqUR3WuAhc0IwpxF/view?usp=sharing\n",
    "# se toma solo el hash identificador\n",
    "file_id = '1tgyexpYaGGm47Z-SPqUR3WuAhc0IwpxF'\n",
    "dwn_url = f'https://drive.google.com/uc?export=download&id={file_id}'\n",
    "url = requests.get(dwn_url).text\n",
    "filename = StringIO(url)"
   ]
  },
  {
   "cell_type": "code",
   "execution_count": null,
   "metadata": {
    "colab": {
     "base_uri": "https://localhost:8080/",
     "height": 230
    },
    "id": "_qeFN3GnEvMk",
    "outputId": "090ef750-68eb-485b-a3d0-71e34669122a"
   },
   "outputs": [
    {
     "data": {
      "text/html": [
       "<div>\n",
       "<style scoped>\n",
       "    .dataframe tbody tr th:only-of-type {\n",
       "        vertical-align: middle;\n",
       "    }\n",
       "\n",
       "    .dataframe tbody tr th {\n",
       "        vertical-align: top;\n",
       "    }\n",
       "\n",
       "    .dataframe thead th {\n",
       "        text-align: right;\n",
       "    }\n",
       "</style>\n",
       "<table border=\"1\" class=\"dataframe\">\n",
       "  <thead>\n",
       "    <tr style=\"text-align: right;\">\n",
       "      <th></th>\n",
       "      <th>Suburb</th>\n",
       "      <th>Address</th>\n",
       "      <th>Rooms</th>\n",
       "      <th>Type</th>\n",
       "      <th>Price</th>\n",
       "      <th>Method</th>\n",
       "      <th>SellerG</th>\n",
       "      <th>Date</th>\n",
       "      <th>Distance</th>\n",
       "      <th>Postcode</th>\n",
       "      <th>Bathroom</th>\n",
       "      <th>Car</th>\n",
       "      <th>Landsize</th>\n",
       "      <th>BuildingArea</th>\n",
       "      <th>YearBuilt</th>\n",
       "      <th>CouncilArea</th>\n",
       "      <th>Lattitude</th>\n",
       "      <th>Longtitude</th>\n",
       "      <th>Regionname</th>\n",
       "      <th>Propertycount</th>\n",
       "      <th>review_scores_location</th>\n",
       "    </tr>\n",
       "  </thead>\n",
       "  <tbody>\n",
       "    <tr>\n",
       "      <th>0</th>\n",
       "      <td>Abbotsford</td>\n",
       "      <td>85 Turner St</td>\n",
       "      <td>2</td>\n",
       "      <td>h</td>\n",
       "      <td>1480000.0</td>\n",
       "      <td>S</td>\n",
       "      <td>Biggin</td>\n",
       "      <td>3/12/2016</td>\n",
       "      <td>2.5</td>\n",
       "      <td>3067.0</td>\n",
       "      <td>1.0</td>\n",
       "      <td>1.0</td>\n",
       "      <td>202.0</td>\n",
       "      <td>NaN</td>\n",
       "      <td>NaN</td>\n",
       "      <td>Yarra</td>\n",
       "      <td>-37.7996</td>\n",
       "      <td>144.9984</td>\n",
       "      <td>Northern Metropolitan</td>\n",
       "      <td>4019.0</td>\n",
       "      <td>9.688525</td>\n",
       "    </tr>\n",
       "    <tr>\n",
       "      <th>1</th>\n",
       "      <td>Abbotsford</td>\n",
       "      <td>25 Bloomburg St</td>\n",
       "      <td>2</td>\n",
       "      <td>h</td>\n",
       "      <td>1035000.0</td>\n",
       "      <td>S</td>\n",
       "      <td>Biggin</td>\n",
       "      <td>4/02/2016</td>\n",
       "      <td>2.5</td>\n",
       "      <td>3067.0</td>\n",
       "      <td>1.0</td>\n",
       "      <td>0.0</td>\n",
       "      <td>156.0</td>\n",
       "      <td>79.0</td>\n",
       "      <td>1900.0</td>\n",
       "      <td>Yarra</td>\n",
       "      <td>-37.8079</td>\n",
       "      <td>144.9934</td>\n",
       "      <td>Northern Metropolitan</td>\n",
       "      <td>4019.0</td>\n",
       "      <td>9.688525</td>\n",
       "    </tr>\n",
       "    <tr>\n",
       "      <th>2</th>\n",
       "      <td>Abbotsford</td>\n",
       "      <td>5 Charles St</td>\n",
       "      <td>3</td>\n",
       "      <td>h</td>\n",
       "      <td>1465000.0</td>\n",
       "      <td>SP</td>\n",
       "      <td>Biggin</td>\n",
       "      <td>4/03/2017</td>\n",
       "      <td>2.5</td>\n",
       "      <td>3067.0</td>\n",
       "      <td>2.0</td>\n",
       "      <td>0.0</td>\n",
       "      <td>134.0</td>\n",
       "      <td>150.0</td>\n",
       "      <td>1900.0</td>\n",
       "      <td>Yarra</td>\n",
       "      <td>-37.8093</td>\n",
       "      <td>144.9944</td>\n",
       "      <td>Northern Metropolitan</td>\n",
       "      <td>4019.0</td>\n",
       "      <td>9.688525</td>\n",
       "    </tr>\n",
       "  </tbody>\n",
       "</table>\n",
       "</div>"
      ],
      "text/plain": [
       "       Suburb          Address  ...  Propertycount review_scores_location\n",
       "0  Abbotsford     85 Turner St  ...         4019.0               9.688525\n",
       "1  Abbotsford  25 Bloomburg St  ...         4019.0               9.688525\n",
       "2  Abbotsford     5 Charles St  ...         4019.0               9.688525\n",
       "\n",
       "[3 rows x 21 columns]"
      ]
     },
     "execution_count": 4,
     "metadata": {
      "tags": []
     },
     "output_type": "execute_result"
    }
   ],
   "source": [
    "# Acá deberían leer el conjunto de datos que ya tienen.\n",
    "melb_df = pandas.read_csv(filename)\n",
    "melb_df[:3]"
   ]
  },
  {
   "cell_type": "markdown",
   "metadata": {
    "id": "s-mixICN22kA"
   },
   "source": [
    "## Ejercicio 1: Encoding\n",
    "\n",
    "1. Seleccionar todas las filas y columnas del conjunto de datos obtenido en la parte 1 del entregable, **excepto** `BuildingArea` y `YearBuilt`, que volveremos a imputar más adelante.\n",
    "\n",
    "2. Aplicar una codificación One-hot encoding a cada fila, tanto para variables numéricas como categóricas. Si lo consideran necesario, pueden volver a reducir el número de categorías únicas.\n",
    "\n",
    "Algunas opciones:\n",
    "  1. Utilizar `OneHotEncoder` junto con el parámetro `categories` para las variables categóricas y luego usar `numpy.hstack` para concatenar el resultado con las variables numéricas. \n",
    "  2. `DictVectorizer` con algunos pasos de pre-proceso previo.\n",
    "\n",
    "Recordar también que el atributo `pandas.DataFrame.values` permite acceder a la matriz de numpy subyacente a un DataFrame.\n"
   ]
  },
  {
   "cell_type": "code",
   "execution_count": null,
   "metadata": {
    "colab": {
     "base_uri": "https://localhost:8080/"
    },
    "id": "VJZfJcaVx21i",
    "outputId": "7609e887-37a6-4777-b402-d1c93572fbcd"
   },
   "outputs": [
    {
     "data": {
      "text/plain": [
       "Index(['Suburb', 'Address', 'Rooms', 'Type', 'Price', 'Method', 'SellerG',\n",
       "       'Date', 'Distance', 'Postcode', 'Bathroom', 'Car', 'Landsize',\n",
       "       'BuildingArea', 'YearBuilt', 'CouncilArea', 'Lattitude', 'Longtitude',\n",
       "       'Regionname', 'Propertycount', 'review_scores_location'],\n",
       "      dtype='object')"
      ]
     },
     "execution_count": 5,
     "metadata": {
      "tags": []
     },
     "output_type": "execute_result"
    }
   ],
   "source": [
    "melb_df.columns"
   ]
  },
  {
   "cell_type": "code",
   "execution_count": null,
   "metadata": {
    "id": "37pibAr8x21k"
   },
   "outputs": [],
   "source": [
    "categorical_cols = ['Suburb', 'Type', 'CouncilArea', 'Regionname', 'Method']\n",
    "numerical_cols = ['Rooms', 'Bathroom', 'Car', 'Price', 'review_scores_location', 'Distance', 'Propertycount']"
   ]
  },
  {
   "cell_type": "code",
   "execution_count": null,
   "metadata": {
    "colab": {
     "base_uri": "https://localhost:8080/"
    },
    "id": "oSNfW1BBJnV0",
    "outputId": "a36c9e8b-bf0c-475e-e7a8-d551eaea45fd"
   },
   "outputs": [
    {
     "data": {
      "text/plain": [
       "Suburb         314\n",
       "Type             3\n",
       "CouncilArea    293\n",
       "Regionname       6\n",
       "Method           5\n",
       "dtype: int64"
      ]
     },
     "execution_count": 7,
     "metadata": {
      "tags": []
     },
     "output_type": "execute_result"
    }
   ],
   "source": [
    "melb_df[categorical_cols].nunique()"
   ]
  },
  {
   "cell_type": "markdown",
   "metadata": {
    "id": "SIr1Mgx26vv2"
   },
   "source": [
    "Vamos a remover las columnas Address, Date y SellerG debido a que no deberían estar."
   ]
  },
  {
   "cell_type": "code",
   "execution_count": null,
   "metadata": {
    "id": "Q5tWynrv6u4C"
   },
   "outputs": [],
   "source": [
    "melb_df.drop([\"Address\", \"Date\", \"SellerG\"], axis=1, inplace=True, errors='ignore')"
   ]
  },
  {
   "cell_type": "code",
   "execution_count": null,
   "metadata": {
    "colab": {
     "base_uri": "https://localhost:8080/"
    },
    "id": "XPDDOVHNNywn",
    "outputId": "108fb404-7865-4f58-c98a-c2257da5a966"
   },
   "outputs": [
    {
     "data": {
      "text/plain": [
       "Suburb         0\n",
       "Type           0\n",
       "CouncilArea    0\n",
       "Regionname     0\n",
       "Method         0\n",
       "dtype: int64"
      ]
     },
     "execution_count": 9,
     "metadata": {
      "tags": []
     },
     "output_type": "execute_result"
    }
   ],
   "source": [
    "# Check for nulls\n",
    "melb_df[categorical_cols].isna().sum()"
   ]
  },
  {
   "cell_type": "code",
   "execution_count": null,
   "metadata": {
    "colab": {
     "base_uri": "https://localhost:8080/"
    },
    "id": "VzjEhZTNx21u",
    "outputId": "6f0c2046-6369-4a99-f9b1-84ff253f442e"
   },
   "outputs": [
    {
     "data": {
      "text/plain": [
       "[array(['Abbotsford', 'Aberfeldie', 'Airport West', 'Albanvale',\n",
       "        'Albert Park', 'Albion', 'Alphington', 'Altona', 'Altona Meadows',\n",
       "        'Altona North', 'Ardeer', 'Armadale', 'Ascot Vale', 'Ashburton',\n",
       "        'Ashwood', 'Aspendale', 'Aspendale Gardens', 'Attwood',\n",
       "        'Avondale Heights', 'Bacchus Marsh', 'Balaclava', 'Balwyn',\n",
       "        'Balwyn North', 'Bayswater', 'Bayswater North', 'Beaconsfield',\n",
       "        'Beaconsfield Upper', 'Beaumaris', 'Bellfield', 'Bentleigh',\n",
       "        'Bentleigh East', 'Berwick', 'Black Rock', 'Blackburn',\n",
       "        'Blackburn North', 'Blackburn South', 'Bonbeach', 'Boronia',\n",
       "        'Box Hill', 'Braybrook', 'Briar Hill', 'Brighton', 'Brighton East',\n",
       "        'Broadmeadows', 'Brookfield', 'Brooklyn', 'Brunswick',\n",
       "        'Brunswick East', 'Brunswick West', 'Bulleen', 'Bullengarook',\n",
       "        'Bundoora', 'Burnley', 'Burnside', 'Burnside Heights', 'Burwood',\n",
       "        'Burwood East', 'Cairnlea', 'Camberwell', 'Campbellfield',\n",
       "        'Canterbury', 'Carlton', 'Carlton North', 'Carnegie',\n",
       "        'Caroline Springs', 'Carrum', 'Carrum Downs', 'Caulfield',\n",
       "        'Caulfield East', 'Caulfield North', 'Caulfield South',\n",
       "        'Chadstone', 'Chelsea', 'Chelsea Heights', 'Cheltenham',\n",
       "        'Chirnside Park', 'Clarinda', 'Clayton', 'Clayton South',\n",
       "        'Clifton Hill', 'Coburg', 'Coburg North', 'Collingwood',\n",
       "        'Coolaroo', 'Craigieburn', 'Cranbourne', 'Cranbourne North',\n",
       "        'Cremorne', 'Croydon', 'Croydon Hills', 'Croydon North',\n",
       "        'Croydon South', 'Dallas', 'Dandenong', 'Dandenong North',\n",
       "        'Deepdene', 'Deer Park', 'Delahey', 'Derrimut', 'Diamond Creek',\n",
       "        'Diggers Rest', 'Dingley Village', 'Docklands', 'Doncaster',\n",
       "        'Doncaster East', 'Donvale', 'Doreen', 'Doveton', 'Eaglemont',\n",
       "        'East Melbourne', 'Edithvale', 'Elsternwick', 'Eltham',\n",
       "        'Eltham North', 'Elwood', 'Emerald', 'Endeavour Hills', 'Epping',\n",
       "        'Essendon', 'Essendon North', 'Essendon West', 'Fairfield',\n",
       "        'Fawkner', 'Ferntree Gully', 'Fitzroy', 'Fitzroy North',\n",
       "        'Flemington', 'Footscray', 'Forest Hill', 'Frankston',\n",
       "        'Frankston North', 'Frankston South', 'Gardenvale', 'Gisborne',\n",
       "        'Gladstone Park', 'Glen Huntly', 'Glen Iris', 'Glen Waverley',\n",
       "        'Glenroy', 'Gowanbrae', 'Greensborough', 'Greenvale', 'Hadfield',\n",
       "        'Hallam', 'Hampton', 'Hampton East', 'Hampton Park', 'Hawthorn',\n",
       "        'Hawthorn East', 'Healesville', 'Heathmont', 'Heidelberg',\n",
       "        'Heidelberg Heights', 'Heidelberg West', 'Highett', 'Hillside',\n",
       "        'Hoppers Crossing', 'Hughesdale', 'Huntingdale', 'Hurstbridge',\n",
       "        'Ivanhoe', 'Ivanhoe East', 'Jacana', 'Kealba', 'Keilor',\n",
       "        'Keilor Downs', 'Keilor East', 'Keilor Lodge', 'Keilor Park',\n",
       "        'Kensington', 'Kew', 'Kew East', 'Keysborough', 'Kilsyth',\n",
       "        'Kings Park', 'Kingsbury', 'Kingsville', 'Knoxfield', 'Kooyong',\n",
       "        'Kurunjang', 'Lalor', 'Langwarrin', 'Lower Plenty', 'Maidstone',\n",
       "        'Malvern', 'Malvern East', 'Maribyrnong', 'McKinnon',\n",
       "        'Meadow Heights', 'Melbourne', 'Melton', 'Melton South',\n",
       "        'Melton West', 'Mentone', 'Mernda', 'Middle Park', 'Mill Park',\n",
       "        'Mitcham', 'Monbulk', 'Mont Albert', 'Montmorency', 'Montrose',\n",
       "        'Moonee Ponds', 'Moorabbin', 'Mooroolbark', 'Mordialloc',\n",
       "        'Mount Evelyn', 'Mount Waverley', 'Mulgrave', 'Murrumbeena',\n",
       "        'Narre Warren', 'New Gisborne', 'Newport', 'Niddrie', 'Noble Park',\n",
       "        'North Melbourne', 'North Warrandyte', 'Northcote', 'Notting Hill',\n",
       "        'Nunawading', 'Oak Park', 'Oakleigh', 'Oakleigh East',\n",
       "        'Oakleigh South', 'Officer', 'Ormond', 'Pakenham', 'Parkdale',\n",
       "        'Parkville', 'Pascoe Vale', 'Plumpton', 'Point Cook',\n",
       "        'Port Melbourne', 'Prahran', 'Preston', 'Princes Hill',\n",
       "        'Reservoir', 'Richmond', 'Riddells Creek', 'Ringwood',\n",
       "        'Ringwood East', 'Ringwood North', 'Ripponlea', 'Rockbank',\n",
       "        'Rosanna', 'Rowville', 'Roxburgh Park', 'Sandhurst', 'Sandringham',\n",
       "        'Scoresby', 'Seabrook', 'Seaford', 'Seaholme', 'Seddon', 'Silvan',\n",
       "        'Skye', 'South Kingsville', 'South Melbourne', 'South Morang',\n",
       "        'South Yarra', 'Southbank', 'Spotswood', 'Springvale',\n",
       "        'Springvale South', 'St Albans', 'St Helena', 'St Kilda',\n",
       "        'Strathmore', 'Strathmore Heights', 'Sunbury', 'Sunshine',\n",
       "        'Sunshine North', 'Sunshine West', 'Surrey Hills', 'Sydenham',\n",
       "        'Tarneit', 'Taylors Hill', 'Taylors Lakes', 'Templestowe',\n",
       "        'Templestowe Lower', 'The Basin', 'Thomastown', 'Thornbury',\n",
       "        'Toorak', 'Travancore', 'Truganina', 'Tullamarine', 'Upwey',\n",
       "        'Vermont', 'Vermont South', 'Viewbank', 'Wallan', 'Wantirna',\n",
       "        'Wantirna South', 'Warrandyte', 'Waterways', 'Watsonia',\n",
       "        'Watsonia North', 'Werribee', 'West Footscray', 'West Melbourne',\n",
       "        'Westmeadows', 'Wheelers Hill', 'Whittlesea', 'Williams Landing',\n",
       "        'Williamstown', 'Williamstown North', 'Windsor', 'Wollert',\n",
       "        'Wonga Park', 'Wyndham Vale', 'Yallambie', 'Yarra Glen',\n",
       "        'Yarraville'], dtype=object),\n",
       " array(['h', 't', 'u'], dtype=object),\n",
       " array(['Abbotsford', 'Aberfeldie', 'Airport West', 'Albanvale',\n",
       "        'Albert Park', 'Albion', 'Alphington', 'Altona', 'Altona Meadows',\n",
       "        'Altona North', 'Ardeer', 'Armadale', 'Ascot Vale', 'Ashburton',\n",
       "        'Ashwood', 'Aspendale', 'Aspendale Gardens', 'Attwood',\n",
       "        'Avondale Heights', 'Balaclava', 'Balwyn', 'Balwyn North',\n",
       "        'Banyule', 'Bayside', 'Bayswater', 'Bayswater North', 'Beaumaris',\n",
       "        'Bellfield', 'Bentleigh', 'Bentleigh East', 'Berwick',\n",
       "        'Black Rock', 'Blackburn', 'Blackburn North', 'Blackburn South',\n",
       "        'Bonbeach', 'Boronia', 'Boroondara', 'Box Hill', 'Braybrook',\n",
       "        'Briar Hill', 'Brighton', 'Brighton East', 'Brimbank',\n",
       "        'Broadmeadows', 'Brooklyn', 'Brunswick', 'Brunswick East',\n",
       "        'Brunswick West', 'Bulleen', 'Bundoora', 'Burnside',\n",
       "        'Burnside Heights', 'Burwood', 'Burwood East', 'Camberwell',\n",
       "        'Campbellfield', 'Canterbury', 'Cardinia', 'Carlton',\n",
       "        'Carlton North', 'Carnegie', 'Caroline Springs', 'Carrum Downs',\n",
       "        'Casey', 'Caulfield East', 'Caulfield South', 'Chadstone',\n",
       "        'Chelsea', 'Chelsea Heights', 'Cheltenham', 'Clarinda', 'Clayton',\n",
       "        'Clayton South', 'Clifton Hill', 'Coburg', 'Coburg North',\n",
       "        'Collingwood', 'Coolaroo', 'Craigieburn', 'Cranbourne', 'Cremorne',\n",
       "        'Croydon', 'Croydon Hills', 'Croydon North', 'Dallas', 'Dandenong',\n",
       "        'Dandenong North', 'Darebin', 'Deer Park', 'Delahey', 'Derrimut',\n",
       "        'Diamond Creek', 'Dingley Village', 'Doncaster', 'Doncaster East',\n",
       "        'Donvale', 'Doreen', 'Doveton', 'Eaglemont', 'Edithvale',\n",
       "        'Elsternwick', 'Eltham', 'Eltham North', 'Elwood', 'Epping',\n",
       "        'Essendon', 'Essendon North', 'Fairfield', 'Fawkner',\n",
       "        'Ferntree Gully', 'Fitzroy', 'Fitzroy North', 'Flemington',\n",
       "        'Footscray', 'Forest Hill', 'Frankston', 'Frankston North',\n",
       "        'Frankston South', 'Gisborne', 'Gladstone Park', 'Glen Eira',\n",
       "        'Glen Huntly', 'Glen Iris', 'Glen Waverley', 'Glenroy',\n",
       "        'Gowanbrae', 'Greater Dandenong', 'Greensborough', 'Greenvale',\n",
       "        'Hadfield', 'Hallam', 'Hampton', 'Hampton East', 'Hampton Park',\n",
       "        'Hawthorn', 'Hawthorn East', 'Heathmont', 'Heidelberg',\n",
       "        'Heidelberg Heights', 'Heidelberg West', 'Highett', 'Hillside',\n",
       "        'Hobsons Bay', 'Hoppers Crossing', 'Hume', 'Huntingdale',\n",
       "        'Hurstbridge', 'Ivanhoe', 'Ivanhoe East', 'Jacana', 'Kealba',\n",
       "        'Keilor', 'Keilor Downs', 'Keilor East', 'Keilor Lodge',\n",
       "        'Keilor Park', 'Kensington', 'Kew', 'Kew East', 'Keysborough',\n",
       "        'Kilsyth', 'Kings Park', 'Kingston', 'Kingsville', 'Knox',\n",
       "        'Kooyong', 'Lalor', 'Langwarrin', 'Macedon Ranges', 'Maidstone',\n",
       "        'Malvern', 'Malvern East', 'Manningham', 'Maribyrnong',\n",
       "        'Maroondah', 'McKinnon', 'Meadow Heights', 'Melbourne', 'Melton',\n",
       "        'Melton South', 'Melton West', 'Mentone', 'Mernda', 'Middle Park',\n",
       "        'Mill Park', 'Mitcham', 'Monash', 'Monbulk', 'Mont Albert',\n",
       "        'Montmorency', 'Moonee Ponds', 'Moonee Valley', 'Moorabbin',\n",
       "        'Moorabool', 'Mooroolbark', 'Mordialloc', 'Moreland',\n",
       "        'Mount Evelyn', 'Mount Waverley', 'Mulgrave', 'Murrumbeena',\n",
       "        'Narre Warren', 'New Gisborne', 'Newport', 'Niddrie', 'Nillumbik',\n",
       "        'North Melbourne', 'North Warrandyte', 'Northcote', 'Notting Hill',\n",
       "        'Nunawading', 'Oak Park', 'Oakleigh', 'Oakleigh East',\n",
       "        'Oakleigh South', 'Ormond', 'Parkdale', 'Pascoe Vale', 'Plumpton',\n",
       "        'Point Cook', 'Port Melbourne', 'Port Phillip', 'Prahran',\n",
       "        'Preston', 'Princes Hill', 'Reservoir', 'Richmond', 'Ringwood',\n",
       "        'Ringwood East', 'Ringwood North', 'Rosanna', 'Roxburgh Park',\n",
       "        'Sandringham', 'Scoresby', 'Seaford', 'Seddon', 'South Melbourne',\n",
       "        'South Morang', 'South Yarra', 'Spotswood', 'Springvale',\n",
       "        'Springvale South', 'St Albans', 'St Helena', 'St Kilda',\n",
       "        'Stonnington', 'Strathmore', 'Strathmore Heights', 'Sunbury',\n",
       "        'Sunshine', 'Sunshine North', 'Sunshine West', 'Surrey Hills',\n",
       "        'Tarneit', 'Taylors Lakes', 'Templestowe', 'Templestowe Lower',\n",
       "        'The Basin', 'Thomastown', 'Thornbury', 'Toorak', 'Truganina',\n",
       "        'Tullamarine', 'Unavailable', 'Vermont', 'Vermont South',\n",
       "        'Viewbank', 'Wallan', 'Wantirna', 'Wantirna South', 'Warrandyte',\n",
       "        'Waterways', 'Watsonia', 'Watsonia North', 'Werribee',\n",
       "        'West Footscray', 'West Melbourne', 'Westmeadows', 'Wheelers Hill',\n",
       "        'Whitehorse', 'Whittlesea', 'Williams Landing', 'Williamstown',\n",
       "        'Williamstown North', 'Windsor', 'Wollert', 'Wyndham',\n",
       "        'Wyndham Vale', 'Yallambie', 'Yarra', 'Yarra Ranges', 'Yarraville'],\n",
       "       dtype=object),\n",
       " array(['Eastern Metropolitan', 'Northern Metropolitan',\n",
       "        'South-Eastern Metropolitan', 'Southern Metropolitan', 'Victoria',\n",
       "        'Western Metropolitan'], dtype=object),\n",
       " array(['PI', 'S', 'SA', 'SP', 'VB'], dtype=object)]"
      ]
     },
     "execution_count": 10,
     "metadata": {
      "tags": []
     },
     "output_type": "execute_result"
    }
   ],
   "source": [
    "from sklearn.preprocessing import OneHotEncoder\n",
    "\n",
    "encoder = OneHotEncoder(sparse=False)\n",
    "encoder.fit(melb_df[categorical_cols])\n",
    "# We can inspect the categories found by the encoder\n",
    "encoder.categories_"
   ]
  },
  {
   "cell_type": "code",
   "execution_count": null,
   "metadata": {
    "colab": {
     "base_uri": "https://localhost:8080/",
     "height": 204
    },
    "id": "NYAnBfDox21x",
    "outputId": "2505bc82-3992-401e-d853-1b76fc4a1fa0"
   },
   "outputs": [
    {
     "data": {
      "text/html": [
       "<div>\n",
       "<style scoped>\n",
       "    .dataframe tbody tr th:only-of-type {\n",
       "        vertical-align: middle;\n",
       "    }\n",
       "\n",
       "    .dataframe tbody tr th {\n",
       "        vertical-align: top;\n",
       "    }\n",
       "\n",
       "    .dataframe thead th {\n",
       "        text-align: right;\n",
       "    }\n",
       "</style>\n",
       "<table border=\"1\" class=\"dataframe\">\n",
       "  <thead>\n",
       "    <tr style=\"text-align: right;\">\n",
       "      <th></th>\n",
       "      <th>Suburb</th>\n",
       "      <th>Type</th>\n",
       "      <th>CouncilArea</th>\n",
       "      <th>Regionname</th>\n",
       "      <th>Method</th>\n",
       "    </tr>\n",
       "  </thead>\n",
       "  <tbody>\n",
       "    <tr>\n",
       "      <th>0</th>\n",
       "      <td>Abbotsford</td>\n",
       "      <td>h</td>\n",
       "      <td>Yarra</td>\n",
       "      <td>Northern Metropolitan</td>\n",
       "      <td>S</td>\n",
       "    </tr>\n",
       "    <tr>\n",
       "      <th>1</th>\n",
       "      <td>Abbotsford</td>\n",
       "      <td>h</td>\n",
       "      <td>Yarra</td>\n",
       "      <td>Northern Metropolitan</td>\n",
       "      <td>S</td>\n",
       "    </tr>\n",
       "    <tr>\n",
       "      <th>2</th>\n",
       "      <td>Abbotsford</td>\n",
       "      <td>h</td>\n",
       "      <td>Yarra</td>\n",
       "      <td>Northern Metropolitan</td>\n",
       "      <td>SP</td>\n",
       "    </tr>\n",
       "    <tr>\n",
       "      <th>3</th>\n",
       "      <td>Abbotsford</td>\n",
       "      <td>h</td>\n",
       "      <td>Yarra</td>\n",
       "      <td>Northern Metropolitan</td>\n",
       "      <td>PI</td>\n",
       "    </tr>\n",
       "    <tr>\n",
       "      <th>4</th>\n",
       "      <td>Abbotsford</td>\n",
       "      <td>h</td>\n",
       "      <td>Yarra</td>\n",
       "      <td>Northern Metropolitan</td>\n",
       "      <td>VB</td>\n",
       "    </tr>\n",
       "  </tbody>\n",
       "</table>\n",
       "</div>"
      ],
      "text/plain": [
       "       Suburb Type CouncilArea             Regionname Method\n",
       "0  Abbotsford    h       Yarra  Northern Metropolitan      S\n",
       "1  Abbotsford    h       Yarra  Northern Metropolitan      S\n",
       "2  Abbotsford    h       Yarra  Northern Metropolitan     SP\n",
       "3  Abbotsford    h       Yarra  Northern Metropolitan     PI\n",
       "4  Abbotsford    h       Yarra  Northern Metropolitan     VB"
      ]
     },
     "execution_count": 11,
     "metadata": {
      "tags": []
     },
     "output_type": "execute_result"
    }
   ],
   "source": [
    "melb_df[categorical_cols].head()"
   ]
  },
  {
   "cell_type": "code",
   "execution_count": null,
   "metadata": {
    "colab": {
     "base_uri": "https://localhost:8080/"
    },
    "id": "aTN7EhsIx21z",
    "outputId": "36cc440e-cb79-4d94-8e44-923bf6fad96b"
   },
   "outputs": [
    {
     "data": {
      "text/plain": [
       "array([[1., 0., 0., ..., 0., 0., 0.],\n",
       "       [1., 0., 0., ..., 0., 0., 0.],\n",
       "       [1., 0., 0., ..., 0., 1., 0.],\n",
       "       ...,\n",
       "       [0., 0., 0., ..., 0., 0., 0.],\n",
       "       [0., 0., 0., ..., 0., 0., 0.],\n",
       "       [0., 0., 0., ..., 0., 1., 0.]])"
      ]
     },
     "execution_count": 12,
     "metadata": {
      "tags": []
     },
     "output_type": "execute_result"
    }
   ],
   "source": [
    "encoded_types = encoder.transform(melb_df[categorical_cols])\n",
    "encoded_types"
   ]
  },
  {
   "cell_type": "code",
   "execution_count": null,
   "metadata": {
    "id": "owALRfywx212",
    "scrolled": false
   },
   "outputs": [],
   "source": [
    "#con esta funcion veo todo el array\n",
    "#with numpy.printoptions(threshold=numpy.inf):\n",
    "#    print(encoded_types[0])"
   ]
  },
  {
   "cell_type": "markdown",
   "metadata": {
    "id": "Ku2VIdPGMgHn"
   },
   "source": [
    "Escalamos los valores de las columnas numéricas:"
   ]
  },
  {
   "cell_type": "code",
   "execution_count": null,
   "metadata": {
    "colab": {
     "base_uri": "https://localhost:8080/"
    },
    "id": "47UCAZq0MfIJ",
    "outputId": "581bff3c-bb80-47eb-e535-3725f5b1bc82"
   },
   "outputs": [
    {
     "data": {
      "text/plain": [
       "(13463, 7)"
      ]
     },
     "execution_count": 14,
     "metadata": {
      "tags": []
     },
     "output_type": "execute_result"
    }
   ],
   "source": [
    "from sklearn.preprocessing import MinMaxScaler\n",
    "scaler = MinMaxScaler()\n",
    "numeric_values = melb_df[numerical_cols]\n",
    "scaled_numeric_values = scaler.fit_transform(numeric_values)\n",
    "scaled_numeric_values.shape"
   ]
  },
  {
   "cell_type": "code",
   "execution_count": null,
   "metadata": {
    "colab": {
     "base_uri": "https://localhost:8080/"
    },
    "id": "20E7mgFtx215",
    "outputId": "236c5f10-7d62-4ed3-efa5-398d7e826586"
   },
   "outputs": [
    {
     "data": {
      "text/plain": [
       "array([1.        , 0.        , 0.        , 0.        , 0.        ,\n",
       "       0.        , 0.        , 0.        , 0.        , 0.        ,\n",
       "       0.        , 0.        , 0.        , 0.        , 0.        ,\n",
       "       0.        , 0.        , 0.        , 0.        , 0.        ,\n",
       "       0.        , 0.        , 0.        , 0.        , 0.        ,\n",
       "       0.        , 0.        , 0.        , 0.        , 0.        ,\n",
       "       0.        , 0.        , 0.        , 0.        , 0.        ,\n",
       "       0.        , 0.        , 0.        , 0.        , 0.        ,\n",
       "       0.        , 0.        , 0.        , 0.        , 0.        ,\n",
       "       0.        , 0.        , 0.        , 0.        , 0.        ,\n",
       "       0.        , 0.        , 0.        , 0.        , 0.        ,\n",
       "       0.        , 0.        , 0.        , 0.        , 0.        ,\n",
       "       0.        , 0.        , 0.        , 0.        , 0.        ,\n",
       "       0.        , 0.        , 0.        , 0.        , 0.        ,\n",
       "       0.        , 0.        , 0.        , 0.        , 0.        ,\n",
       "       0.        , 0.        , 0.        , 0.        , 0.        ,\n",
       "       0.        , 0.        , 0.        , 0.        , 0.        ,\n",
       "       0.        , 0.        , 0.        , 0.        , 0.        ,\n",
       "       0.        , 0.        , 0.        , 0.        , 0.        ,\n",
       "       0.        , 0.        , 0.        , 0.        , 0.        ,\n",
       "       0.        , 0.        , 0.        , 0.        , 0.        ,\n",
       "       0.        , 0.        , 0.        , 0.        , 0.        ,\n",
       "       0.        , 0.        , 0.        , 0.        , 0.        ,\n",
       "       0.        , 0.        , 0.        , 0.        , 0.        ,\n",
       "       0.        , 0.        , 0.        , 0.        , 0.        ,\n",
       "       0.        , 0.        , 0.        , 0.        , 0.        ,\n",
       "       0.        , 0.        , 0.        , 0.        , 0.        ,\n",
       "       0.        , 0.        , 0.        , 0.        , 0.        ,\n",
       "       0.        , 0.        , 0.        , 0.        , 0.        ,\n",
       "       0.        , 0.        , 0.        , 0.        , 0.        ,\n",
       "       0.        , 0.        , 0.        , 0.        , 0.        ,\n",
       "       0.        , 0.        , 0.        , 0.        , 0.        ,\n",
       "       0.        , 0.        , 0.        , 0.        , 0.        ,\n",
       "       0.        , 0.        , 0.        , 0.        , 0.        ,\n",
       "       0.        , 0.        , 0.        , 0.        , 0.        ,\n",
       "       0.        , 0.        , 0.        , 0.        , 0.        ,\n",
       "       0.        , 0.        , 0.        , 0.        , 0.        ,\n",
       "       0.        , 0.        , 0.        , 0.        , 0.        ,\n",
       "       0.        , 0.        , 0.        , 0.        , 0.        ,\n",
       "       0.        , 0.        , 0.        , 0.        , 0.        ,\n",
       "       0.        , 0.        , 0.        , 0.        , 0.        ,\n",
       "       0.        , 0.        , 0.        , 0.        , 0.        ,\n",
       "       0.        , 0.        , 0.        , 0.        , 0.        ,\n",
       "       0.        , 0.        , 0.        , 0.        , 0.        ,\n",
       "       0.        , 0.        , 0.        , 0.        , 0.        ,\n",
       "       0.        , 0.        , 0.        , 0.        , 0.        ,\n",
       "       0.        , 0.        , 0.        , 0.        , 0.        ,\n",
       "       0.        , 0.        , 0.        , 0.        , 0.        ,\n",
       "       0.        , 0.        , 0.        , 0.        , 0.        ,\n",
       "       0.        , 0.        , 0.        , 0.        , 0.        ,\n",
       "       0.        , 0.        , 0.        , 0.        , 0.        ,\n",
       "       0.        , 0.        , 0.        , 0.        , 0.        ,\n",
       "       0.        , 0.        , 0.        , 0.        , 0.        ,\n",
       "       0.        , 0.        , 0.        , 0.        , 0.        ,\n",
       "       0.        , 0.        , 0.        , 0.        , 0.        ,\n",
       "       0.        , 0.        , 0.        , 0.        , 0.        ,\n",
       "       0.        , 0.        , 0.        , 0.        , 0.        ,\n",
       "       0.        , 0.        , 0.        , 0.        , 0.        ,\n",
       "       0.        , 0.        , 0.        , 0.        , 0.        ,\n",
       "       0.        , 0.        , 0.        , 0.        , 0.        ,\n",
       "       0.        , 0.        , 0.        , 0.        , 0.        ,\n",
       "       0.        , 0.        , 0.        , 0.        , 0.        ,\n",
       "       0.        , 0.        , 0.        , 0.        , 1.        ,\n",
       "       0.        , 0.        , 0.        , 0.        , 0.        ,\n",
       "       0.        , 0.        , 0.        , 0.        , 0.        ,\n",
       "       0.        , 0.        , 0.        , 0.        , 0.        ,\n",
       "       0.        , 0.        , 0.        , 0.        , 0.        ,\n",
       "       0.        , 0.        , 0.        , 0.        , 0.        ,\n",
       "       0.        , 0.        , 0.        , 0.        , 0.        ,\n",
       "       0.        , 0.        , 0.        , 0.        , 0.        ,\n",
       "       0.        , 0.        , 0.        , 0.        , 0.        ,\n",
       "       0.        , 0.        , 0.        , 0.        , 0.        ,\n",
       "       0.        , 0.        , 0.        , 0.        , 0.        ,\n",
       "       0.        , 0.        , 0.        , 0.        , 0.        ,\n",
       "       0.        , 0.        , 0.        , 0.        , 0.        ,\n",
       "       0.        , 0.        , 0.        , 0.        , 0.        ,\n",
       "       0.        , 0.        , 0.        , 0.        , 0.        ,\n",
       "       0.        , 0.        , 0.        , 0.        , 0.        ,\n",
       "       0.        , 0.        , 0.        , 0.        , 0.        ,\n",
       "       0.        , 0.        , 0.        , 0.        , 0.        ,\n",
       "       0.        , 0.        , 0.        , 0.        , 0.        ,\n",
       "       0.        , 0.        , 0.        , 0.        , 0.        ,\n",
       "       0.        , 0.        , 0.        , 0.        , 0.        ,\n",
       "       0.        , 0.        , 0.        , 0.        , 0.        ,\n",
       "       0.        , 0.        , 0.        , 0.        , 0.        ,\n",
       "       0.        , 0.        , 0.        , 0.        , 0.        ,\n",
       "       0.        , 0.        , 0.        , 0.        , 0.        ,\n",
       "       0.        , 0.        , 0.        , 0.        , 0.        ,\n",
       "       0.        , 0.        , 0.        , 0.        , 0.        ,\n",
       "       0.        , 0.        , 0.        , 0.        , 0.        ,\n",
       "       0.        , 0.        , 0.        , 0.        , 0.        ,\n",
       "       0.        , 0.        , 0.        , 0.        , 0.        ,\n",
       "       0.        , 0.        , 0.        , 0.        , 0.        ,\n",
       "       0.        , 0.        , 0.        , 0.        , 0.        ,\n",
       "       0.        , 0.        , 0.        , 0.        , 0.        ,\n",
       "       0.        , 0.        , 0.        , 0.        , 0.        ,\n",
       "       0.        , 0.        , 0.        , 0.        , 0.        ,\n",
       "       0.        , 0.        , 0.        , 0.        , 0.        ,\n",
       "       0.        , 0.        , 0.        , 0.        , 0.        ,\n",
       "       0.        , 0.        , 0.        , 0.        , 0.        ,\n",
       "       0.        , 0.        , 0.        , 0.        , 0.        ,\n",
       "       0.        , 0.        , 0.        , 0.        , 0.        ,\n",
       "       0.        , 0.        , 0.        , 0.        , 0.        ,\n",
       "       0.        , 0.        , 0.        , 0.        , 0.        ,\n",
       "       0.        , 0.        , 0.        , 0.        , 0.        ,\n",
       "       0.        , 0.        , 0.        , 0.        , 0.        ,\n",
       "       0.        , 0.        , 0.        , 0.        , 0.        ,\n",
       "       0.        , 0.        , 0.        , 0.        , 0.        ,\n",
       "       0.        , 0.        , 0.        , 0.        , 0.        ,\n",
       "       0.        , 0.        , 0.        , 0.        , 0.        ,\n",
       "       0.        , 0.        , 0.        , 0.        , 0.        ,\n",
       "       0.        , 0.        , 0.        , 0.        , 0.        ,\n",
       "       0.        , 0.        , 0.        , 0.        , 0.        ,\n",
       "       0.        , 0.        , 0.        , 0.        , 0.        ,\n",
       "       0.        , 0.        , 0.        , 0.        , 0.        ,\n",
       "       0.        , 0.        , 0.        , 0.        , 0.        ,\n",
       "       0.        , 0.        , 0.        , 0.        , 0.        ,\n",
       "       0.        , 0.        , 0.        , 0.        , 0.        ,\n",
       "       0.        , 0.        , 0.        , 0.        , 0.        ,\n",
       "       0.        , 0.        , 0.        , 0.        , 0.        ,\n",
       "       0.        , 0.        , 0.        , 0.        , 0.        ,\n",
       "       0.        , 0.        , 1.        , 0.        , 0.        ,\n",
       "       0.        , 1.        , 0.        , 0.        , 0.        ,\n",
       "       0.        , 0.        , 1.        , 0.        , 0.        ,\n",
       "       0.        , 0.11111111, 0.        , 0.1       , 0.41150442,\n",
       "       0.79234973, 0.05197505, 0.17615999])"
      ]
     },
     "execution_count": 15,
     "metadata": {
      "tags": []
     },
     "output_type": "execute_result"
    }
   ],
   "source": [
    "matriz_densa = numpy.hstack([encoded_types, scaled_numeric_values])\n",
    "matriz_densa[0]"
   ]
  },
  {
   "cell_type": "markdown",
   "metadata": {
    "id": "ismngxPcfoWb"
   },
   "source": [
    "## Ejercicio 2: Imputación por KNN\n",
    "\n",
    "En el teórico se presentó el método `IterativeImputer` para imputar valores faltantes en variables numéricas. Sin embargo, los ejemplos presentados sólo utilizaban algunas variables numéricas presentes en el conjunto de datos. En este ejercicio, utilizaremos la matriz de datos codificada para imputar datos faltantes de manera más precisa.\n",
    "\n",
    "1. Agregue a la matriz obtenida en el punto anterior las columnas `YearBuilt` y `BuildingArea`.\n",
    "2. Aplique una instancia de `IterativeImputer` con un estimador `KNeighborsRegressor` para imputar los valores de las variables. ¿Es necesario estandarizar o escalar los datos previamente?\n",
    "3. Realice un gráfico mostrando la distribución de cada variable antes de ser imputada, y con ambos métodos de imputación."
   ]
  },
  {
   "cell_type": "code",
   "execution_count": null,
   "metadata": {
    "colab": {
     "base_uri": "https://localhost:8080/"
    },
    "id": "_5LYF4DMOr6o",
    "outputId": "516d3eb3-b5ee-484d-a599-d6b2e08e1649"
   },
   "outputs": [
    {
     "data": {
      "text/plain": [
       "array([[       nan,        nan],\n",
       "       [0.85644769, 0.00177468],\n",
       "       [0.85644769, 0.00336965],\n",
       "       ...,\n",
       "       [0.97445255,        nan],\n",
       "       [0.88077859, 0.0035269 ],\n",
       "       [0.88077859, 0.00251601]])"
      ]
     },
     "execution_count": 16,
     "metadata": {
      "tags": []
     },
     "output_type": "execute_result"
    }
   ],
   "source": [
    "datos_faltantes = melb_df[[\"YearBuilt\",\"BuildingArea\"]]\n",
    "scaled_datos_faltantes = scaler.fit_transform(datos_faltantes)\n",
    "scaled_datos_faltantes"
   ]
  },
  {
   "cell_type": "markdown",
   "metadata": {
    "id": "l_Ng5qXJOg3u"
   },
   "source": [
    "Escalamos también los valores de las columnas objetivo (tenemos dudas de si es necesario escalar estas columnas o no)"
   ]
  },
  {
   "cell_type": "markdown",
   "metadata": {
    "id": "htxCZEjFPAqh"
   },
   "source": [
    "Juntamos todos los valores"
   ]
  },
  {
   "cell_type": "code",
   "execution_count": null,
   "metadata": {
    "colab": {
     "base_uri": "https://localhost:8080/"
    },
    "id": "CP45Sm6oD_A-",
    "outputId": "50f371a7-dd02-4c1d-bae5-c08057752d8c"
   },
   "outputs": [
    {
     "data": {
      "text/plain": [
       "array([[1.        , 0.        , 0.        , ..., 0.17615999,        nan,\n",
       "               nan],\n",
       "       [1.        , 0.        , 0.        , ..., 0.17615999, 0.85644769,\n",
       "        0.00177468],\n",
       "       [1.        , 0.        , 0.        , ..., 0.17615999, 0.85644769,\n",
       "        0.00336965],\n",
       "       ...,\n",
       "       [0.        , 0.        , 0.        , ..., 0.28648194, 0.97445255,\n",
       "               nan],\n",
       "       [0.        , 0.        , 0.        , ..., 0.28648194, 0.88077859,\n",
       "        0.0035269 ],\n",
       "       [0.        , 0.        , 0.        , ..., 0.29409841, 0.88077859,\n",
       "        0.00251601]])"
      ]
     },
     "execution_count": 17,
     "metadata": {
      "tags": []
     },
     "output_type": "execute_result"
    }
   ],
   "source": [
    "matriz_densa_ampliada = numpy.hstack([matriz_densa, scaled_datos_faltantes])\n",
    "matriz_densa_ampliada"
   ]
  },
  {
   "cell_type": "markdown",
   "metadata": {
    "id": "osOzR5sAKpjk"
   },
   "source": [
    "Pasos a seguir para terminar el ejercicio:\n",
    "* Escalar los valores de las columnas numéricas antes de juntar los datos (tenemos dudas si tenemos que hacer lo mismo con  las columnas objetivo). Vimos que el MinMax parecía ser el mejor.\n",
    "* Juntar los datos en la matriz densa\n",
    "\n",
    "* Predecir los valores de las columnas para el conjunto de datos restante (pisando todos los valores)\n"
   ]
  },
  {
   "cell_type": "code",
   "execution_count": null,
   "metadata": {
    "id": "-r9azuB6Yq-T"
   },
   "outputs": [],
   "source": [
    "new_columns = []\n",
    "for col, col_values in zip(categorical_cols, encoder.categories_):\n",
    "  for col_value in col_values:\n",
    "    new_columns.append('{}={}'.format(col, col_value))\n",
    "new_columns.extend(numerical_cols)\n",
    "columns_to_predict = [\"YearBuilt\", \"BuildingArea\"]"
   ]
  },
  {
   "cell_type": "code",
   "execution_count": null,
   "metadata": {
    "colab": {
     "base_uri": "https://localhost:8080/",
     "height": 287
    },
    "id": "gvfOQbJTZ3yQ",
    "outputId": "a86c45a8-4035-42b7-cdee-c873f1da6423"
   },
   "outputs": [
    {
     "data": {
      "text/html": [
       "<div>\n",
       "<style scoped>\n",
       "    .dataframe tbody tr th:only-of-type {\n",
       "        vertical-align: middle;\n",
       "    }\n",
       "\n",
       "    .dataframe tbody tr th {\n",
       "        vertical-align: top;\n",
       "    }\n",
       "\n",
       "    .dataframe thead th {\n",
       "        text-align: right;\n",
       "    }\n",
       "</style>\n",
       "<table border=\"1\" class=\"dataframe\">\n",
       "  <thead>\n",
       "    <tr style=\"text-align: right;\">\n",
       "      <th></th>\n",
       "      <th>Suburb=Abbotsford</th>\n",
       "      <th>Suburb=Aberfeldie</th>\n",
       "      <th>Suburb=Airport West</th>\n",
       "      <th>Suburb=Albanvale</th>\n",
       "      <th>Suburb=Albert Park</th>\n",
       "      <th>Suburb=Albion</th>\n",
       "      <th>Suburb=Alphington</th>\n",
       "      <th>Suburb=Altona</th>\n",
       "      <th>Suburb=Altona Meadows</th>\n",
       "      <th>Suburb=Altona North</th>\n",
       "      <th>Suburb=Ardeer</th>\n",
       "      <th>Suburb=Armadale</th>\n",
       "      <th>Suburb=Ascot Vale</th>\n",
       "      <th>Suburb=Ashburton</th>\n",
       "      <th>Suburb=Ashwood</th>\n",
       "      <th>Suburb=Aspendale</th>\n",
       "      <th>Suburb=Aspendale Gardens</th>\n",
       "      <th>Suburb=Attwood</th>\n",
       "      <th>Suburb=Avondale Heights</th>\n",
       "      <th>Suburb=Bacchus Marsh</th>\n",
       "      <th>Suburb=Balaclava</th>\n",
       "      <th>Suburb=Balwyn</th>\n",
       "      <th>Suburb=Balwyn North</th>\n",
       "      <th>Suburb=Bayswater</th>\n",
       "      <th>Suburb=Bayswater North</th>\n",
       "      <th>Suburb=Beaconsfield</th>\n",
       "      <th>Suburb=Beaconsfield Upper</th>\n",
       "      <th>Suburb=Beaumaris</th>\n",
       "      <th>Suburb=Bellfield</th>\n",
       "      <th>Suburb=Bentleigh</th>\n",
       "      <th>Suburb=Bentleigh East</th>\n",
       "      <th>Suburb=Berwick</th>\n",
       "      <th>Suburb=Black Rock</th>\n",
       "      <th>Suburb=Blackburn</th>\n",
       "      <th>Suburb=Blackburn North</th>\n",
       "      <th>Suburb=Blackburn South</th>\n",
       "      <th>Suburb=Bonbeach</th>\n",
       "      <th>Suburb=Boronia</th>\n",
       "      <th>Suburb=Box Hill</th>\n",
       "      <th>Suburb=Braybrook</th>\n",
       "      <th>...</th>\n",
       "      <th>CouncilArea=Watsonia</th>\n",
       "      <th>CouncilArea=Watsonia North</th>\n",
       "      <th>CouncilArea=Werribee</th>\n",
       "      <th>CouncilArea=West Footscray</th>\n",
       "      <th>CouncilArea=West Melbourne</th>\n",
       "      <th>CouncilArea=Westmeadows</th>\n",
       "      <th>CouncilArea=Wheelers Hill</th>\n",
       "      <th>CouncilArea=Whitehorse</th>\n",
       "      <th>CouncilArea=Whittlesea</th>\n",
       "      <th>CouncilArea=Williams Landing</th>\n",
       "      <th>CouncilArea=Williamstown</th>\n",
       "      <th>CouncilArea=Williamstown North</th>\n",
       "      <th>CouncilArea=Windsor</th>\n",
       "      <th>CouncilArea=Wollert</th>\n",
       "      <th>CouncilArea=Wyndham</th>\n",
       "      <th>CouncilArea=Wyndham Vale</th>\n",
       "      <th>CouncilArea=Yallambie</th>\n",
       "      <th>CouncilArea=Yarra</th>\n",
       "      <th>CouncilArea=Yarra Ranges</th>\n",
       "      <th>CouncilArea=Yarraville</th>\n",
       "      <th>Regionname=Eastern Metropolitan</th>\n",
       "      <th>Regionname=Northern Metropolitan</th>\n",
       "      <th>Regionname=South-Eastern Metropolitan</th>\n",
       "      <th>Regionname=Southern Metropolitan</th>\n",
       "      <th>Regionname=Victoria</th>\n",
       "      <th>Regionname=Western Metropolitan</th>\n",
       "      <th>Method=PI</th>\n",
       "      <th>Method=S</th>\n",
       "      <th>Method=SA</th>\n",
       "      <th>Method=SP</th>\n",
       "      <th>Method=VB</th>\n",
       "      <th>Rooms</th>\n",
       "      <th>Bathroom</th>\n",
       "      <th>Car</th>\n",
       "      <th>Price</th>\n",
       "      <th>review_scores_location</th>\n",
       "      <th>Distance</th>\n",
       "      <th>Propertycount</th>\n",
       "      <th>YearBuilt</th>\n",
       "      <th>BuildingArea</th>\n",
       "    </tr>\n",
       "  </thead>\n",
       "  <tbody>\n",
       "    <tr>\n",
       "      <th>0</th>\n",
       "      <td>1.0</td>\n",
       "      <td>0.0</td>\n",
       "      <td>0.0</td>\n",
       "      <td>0.0</td>\n",
       "      <td>0.0</td>\n",
       "      <td>0.0</td>\n",
       "      <td>0.0</td>\n",
       "      <td>0.0</td>\n",
       "      <td>0.0</td>\n",
       "      <td>0.0</td>\n",
       "      <td>0.0</td>\n",
       "      <td>0.0</td>\n",
       "      <td>0.0</td>\n",
       "      <td>0.0</td>\n",
       "      <td>0.0</td>\n",
       "      <td>0.0</td>\n",
       "      <td>0.0</td>\n",
       "      <td>0.0</td>\n",
       "      <td>0.0</td>\n",
       "      <td>0.0</td>\n",
       "      <td>0.0</td>\n",
       "      <td>0.0</td>\n",
       "      <td>0.0</td>\n",
       "      <td>0.0</td>\n",
       "      <td>0.0</td>\n",
       "      <td>0.0</td>\n",
       "      <td>0.0</td>\n",
       "      <td>0.0</td>\n",
       "      <td>0.0</td>\n",
       "      <td>0.0</td>\n",
       "      <td>0.0</td>\n",
       "      <td>0.0</td>\n",
       "      <td>0.0</td>\n",
       "      <td>0.0</td>\n",
       "      <td>0.0</td>\n",
       "      <td>0.0</td>\n",
       "      <td>0.0</td>\n",
       "      <td>0.0</td>\n",
       "      <td>0.0</td>\n",
       "      <td>0.0</td>\n",
       "      <td>...</td>\n",
       "      <td>0.0</td>\n",
       "      <td>0.0</td>\n",
       "      <td>0.0</td>\n",
       "      <td>0.0</td>\n",
       "      <td>0.0</td>\n",
       "      <td>0.0</td>\n",
       "      <td>0.0</td>\n",
       "      <td>0.0</td>\n",
       "      <td>0.0</td>\n",
       "      <td>0.0</td>\n",
       "      <td>0.0</td>\n",
       "      <td>0.0</td>\n",
       "      <td>0.0</td>\n",
       "      <td>0.0</td>\n",
       "      <td>0.0</td>\n",
       "      <td>0.0</td>\n",
       "      <td>0.0</td>\n",
       "      <td>1.0</td>\n",
       "      <td>0.0</td>\n",
       "      <td>0.0</td>\n",
       "      <td>0.0</td>\n",
       "      <td>1.0</td>\n",
       "      <td>0.0</td>\n",
       "      <td>0.0</td>\n",
       "      <td>0.0</td>\n",
       "      <td>0.0</td>\n",
       "      <td>0.0</td>\n",
       "      <td>1.0</td>\n",
       "      <td>0.0</td>\n",
       "      <td>0.0</td>\n",
       "      <td>0.0</td>\n",
       "      <td>0.111111</td>\n",
       "      <td>0.000000</td>\n",
       "      <td>0.1</td>\n",
       "      <td>0.411504</td>\n",
       "      <td>0.79235</td>\n",
       "      <td>0.051975</td>\n",
       "      <td>0.17616</td>\n",
       "      <td>NaN</td>\n",
       "      <td>NaN</td>\n",
       "    </tr>\n",
       "    <tr>\n",
       "      <th>1</th>\n",
       "      <td>1.0</td>\n",
       "      <td>0.0</td>\n",
       "      <td>0.0</td>\n",
       "      <td>0.0</td>\n",
       "      <td>0.0</td>\n",
       "      <td>0.0</td>\n",
       "      <td>0.0</td>\n",
       "      <td>0.0</td>\n",
       "      <td>0.0</td>\n",
       "      <td>0.0</td>\n",
       "      <td>0.0</td>\n",
       "      <td>0.0</td>\n",
       "      <td>0.0</td>\n",
       "      <td>0.0</td>\n",
       "      <td>0.0</td>\n",
       "      <td>0.0</td>\n",
       "      <td>0.0</td>\n",
       "      <td>0.0</td>\n",
       "      <td>0.0</td>\n",
       "      <td>0.0</td>\n",
       "      <td>0.0</td>\n",
       "      <td>0.0</td>\n",
       "      <td>0.0</td>\n",
       "      <td>0.0</td>\n",
       "      <td>0.0</td>\n",
       "      <td>0.0</td>\n",
       "      <td>0.0</td>\n",
       "      <td>0.0</td>\n",
       "      <td>0.0</td>\n",
       "      <td>0.0</td>\n",
       "      <td>0.0</td>\n",
       "      <td>0.0</td>\n",
       "      <td>0.0</td>\n",
       "      <td>0.0</td>\n",
       "      <td>0.0</td>\n",
       "      <td>0.0</td>\n",
       "      <td>0.0</td>\n",
       "      <td>0.0</td>\n",
       "      <td>0.0</td>\n",
       "      <td>0.0</td>\n",
       "      <td>...</td>\n",
       "      <td>0.0</td>\n",
       "      <td>0.0</td>\n",
       "      <td>0.0</td>\n",
       "      <td>0.0</td>\n",
       "      <td>0.0</td>\n",
       "      <td>0.0</td>\n",
       "      <td>0.0</td>\n",
       "      <td>0.0</td>\n",
       "      <td>0.0</td>\n",
       "      <td>0.0</td>\n",
       "      <td>0.0</td>\n",
       "      <td>0.0</td>\n",
       "      <td>0.0</td>\n",
       "      <td>0.0</td>\n",
       "      <td>0.0</td>\n",
       "      <td>0.0</td>\n",
       "      <td>0.0</td>\n",
       "      <td>1.0</td>\n",
       "      <td>0.0</td>\n",
       "      <td>0.0</td>\n",
       "      <td>0.0</td>\n",
       "      <td>1.0</td>\n",
       "      <td>0.0</td>\n",
       "      <td>0.0</td>\n",
       "      <td>0.0</td>\n",
       "      <td>0.0</td>\n",
       "      <td>0.0</td>\n",
       "      <td>1.0</td>\n",
       "      <td>0.0</td>\n",
       "      <td>0.0</td>\n",
       "      <td>0.0</td>\n",
       "      <td>0.111111</td>\n",
       "      <td>0.000000</td>\n",
       "      <td>0.0</td>\n",
       "      <td>0.280236</td>\n",
       "      <td>0.79235</td>\n",
       "      <td>0.051975</td>\n",
       "      <td>0.17616</td>\n",
       "      <td>0.856448</td>\n",
       "      <td>0.001775</td>\n",
       "    </tr>\n",
       "    <tr>\n",
       "      <th>2</th>\n",
       "      <td>1.0</td>\n",
       "      <td>0.0</td>\n",
       "      <td>0.0</td>\n",
       "      <td>0.0</td>\n",
       "      <td>0.0</td>\n",
       "      <td>0.0</td>\n",
       "      <td>0.0</td>\n",
       "      <td>0.0</td>\n",
       "      <td>0.0</td>\n",
       "      <td>0.0</td>\n",
       "      <td>0.0</td>\n",
       "      <td>0.0</td>\n",
       "      <td>0.0</td>\n",
       "      <td>0.0</td>\n",
       "      <td>0.0</td>\n",
       "      <td>0.0</td>\n",
       "      <td>0.0</td>\n",
       "      <td>0.0</td>\n",
       "      <td>0.0</td>\n",
       "      <td>0.0</td>\n",
       "      <td>0.0</td>\n",
       "      <td>0.0</td>\n",
       "      <td>0.0</td>\n",
       "      <td>0.0</td>\n",
       "      <td>0.0</td>\n",
       "      <td>0.0</td>\n",
       "      <td>0.0</td>\n",
       "      <td>0.0</td>\n",
       "      <td>0.0</td>\n",
       "      <td>0.0</td>\n",
       "      <td>0.0</td>\n",
       "      <td>0.0</td>\n",
       "      <td>0.0</td>\n",
       "      <td>0.0</td>\n",
       "      <td>0.0</td>\n",
       "      <td>0.0</td>\n",
       "      <td>0.0</td>\n",
       "      <td>0.0</td>\n",
       "      <td>0.0</td>\n",
       "      <td>0.0</td>\n",
       "      <td>...</td>\n",
       "      <td>0.0</td>\n",
       "      <td>0.0</td>\n",
       "      <td>0.0</td>\n",
       "      <td>0.0</td>\n",
       "      <td>0.0</td>\n",
       "      <td>0.0</td>\n",
       "      <td>0.0</td>\n",
       "      <td>0.0</td>\n",
       "      <td>0.0</td>\n",
       "      <td>0.0</td>\n",
       "      <td>0.0</td>\n",
       "      <td>0.0</td>\n",
       "      <td>0.0</td>\n",
       "      <td>0.0</td>\n",
       "      <td>0.0</td>\n",
       "      <td>0.0</td>\n",
       "      <td>0.0</td>\n",
       "      <td>1.0</td>\n",
       "      <td>0.0</td>\n",
       "      <td>0.0</td>\n",
       "      <td>0.0</td>\n",
       "      <td>1.0</td>\n",
       "      <td>0.0</td>\n",
       "      <td>0.0</td>\n",
       "      <td>0.0</td>\n",
       "      <td>0.0</td>\n",
       "      <td>0.0</td>\n",
       "      <td>0.0</td>\n",
       "      <td>0.0</td>\n",
       "      <td>1.0</td>\n",
       "      <td>0.0</td>\n",
       "      <td>0.222222</td>\n",
       "      <td>0.142857</td>\n",
       "      <td>0.0</td>\n",
       "      <td>0.407080</td>\n",
       "      <td>0.79235</td>\n",
       "      <td>0.051975</td>\n",
       "      <td>0.17616</td>\n",
       "      <td>0.856448</td>\n",
       "      <td>0.003370</td>\n",
       "    </tr>\n",
       "    <tr>\n",
       "      <th>3</th>\n",
       "      <td>1.0</td>\n",
       "      <td>0.0</td>\n",
       "      <td>0.0</td>\n",
       "      <td>0.0</td>\n",
       "      <td>0.0</td>\n",
       "      <td>0.0</td>\n",
       "      <td>0.0</td>\n",
       "      <td>0.0</td>\n",
       "      <td>0.0</td>\n",
       "      <td>0.0</td>\n",
       "      <td>0.0</td>\n",
       "      <td>0.0</td>\n",
       "      <td>0.0</td>\n",
       "      <td>0.0</td>\n",
       "      <td>0.0</td>\n",
       "      <td>0.0</td>\n",
       "      <td>0.0</td>\n",
       "      <td>0.0</td>\n",
       "      <td>0.0</td>\n",
       "      <td>0.0</td>\n",
       "      <td>0.0</td>\n",
       "      <td>0.0</td>\n",
       "      <td>0.0</td>\n",
       "      <td>0.0</td>\n",
       "      <td>0.0</td>\n",
       "      <td>0.0</td>\n",
       "      <td>0.0</td>\n",
       "      <td>0.0</td>\n",
       "      <td>0.0</td>\n",
       "      <td>0.0</td>\n",
       "      <td>0.0</td>\n",
       "      <td>0.0</td>\n",
       "      <td>0.0</td>\n",
       "      <td>0.0</td>\n",
       "      <td>0.0</td>\n",
       "      <td>0.0</td>\n",
       "      <td>0.0</td>\n",
       "      <td>0.0</td>\n",
       "      <td>0.0</td>\n",
       "      <td>0.0</td>\n",
       "      <td>...</td>\n",
       "      <td>0.0</td>\n",
       "      <td>0.0</td>\n",
       "      <td>0.0</td>\n",
       "      <td>0.0</td>\n",
       "      <td>0.0</td>\n",
       "      <td>0.0</td>\n",
       "      <td>0.0</td>\n",
       "      <td>0.0</td>\n",
       "      <td>0.0</td>\n",
       "      <td>0.0</td>\n",
       "      <td>0.0</td>\n",
       "      <td>0.0</td>\n",
       "      <td>0.0</td>\n",
       "      <td>0.0</td>\n",
       "      <td>0.0</td>\n",
       "      <td>0.0</td>\n",
       "      <td>0.0</td>\n",
       "      <td>1.0</td>\n",
       "      <td>0.0</td>\n",
       "      <td>0.0</td>\n",
       "      <td>0.0</td>\n",
       "      <td>1.0</td>\n",
       "      <td>0.0</td>\n",
       "      <td>0.0</td>\n",
       "      <td>0.0</td>\n",
       "      <td>0.0</td>\n",
       "      <td>1.0</td>\n",
       "      <td>0.0</td>\n",
       "      <td>0.0</td>\n",
       "      <td>0.0</td>\n",
       "      <td>0.0</td>\n",
       "      <td>0.222222</td>\n",
       "      <td>0.142857</td>\n",
       "      <td>0.1</td>\n",
       "      <td>0.225664</td>\n",
       "      <td>0.79235</td>\n",
       "      <td>0.051975</td>\n",
       "      <td>0.17616</td>\n",
       "      <td>NaN</td>\n",
       "      <td>NaN</td>\n",
       "    </tr>\n",
       "    <tr>\n",
       "      <th>4</th>\n",
       "      <td>1.0</td>\n",
       "      <td>0.0</td>\n",
       "      <td>0.0</td>\n",
       "      <td>0.0</td>\n",
       "      <td>0.0</td>\n",
       "      <td>0.0</td>\n",
       "      <td>0.0</td>\n",
       "      <td>0.0</td>\n",
       "      <td>0.0</td>\n",
       "      <td>0.0</td>\n",
       "      <td>0.0</td>\n",
       "      <td>0.0</td>\n",
       "      <td>0.0</td>\n",
       "      <td>0.0</td>\n",
       "      <td>0.0</td>\n",
       "      <td>0.0</td>\n",
       "      <td>0.0</td>\n",
       "      <td>0.0</td>\n",
       "      <td>0.0</td>\n",
       "      <td>0.0</td>\n",
       "      <td>0.0</td>\n",
       "      <td>0.0</td>\n",
       "      <td>0.0</td>\n",
       "      <td>0.0</td>\n",
       "      <td>0.0</td>\n",
       "      <td>0.0</td>\n",
       "      <td>0.0</td>\n",
       "      <td>0.0</td>\n",
       "      <td>0.0</td>\n",
       "      <td>0.0</td>\n",
       "      <td>0.0</td>\n",
       "      <td>0.0</td>\n",
       "      <td>0.0</td>\n",
       "      <td>0.0</td>\n",
       "      <td>0.0</td>\n",
       "      <td>0.0</td>\n",
       "      <td>0.0</td>\n",
       "      <td>0.0</td>\n",
       "      <td>0.0</td>\n",
       "      <td>0.0</td>\n",
       "      <td>...</td>\n",
       "      <td>0.0</td>\n",
       "      <td>0.0</td>\n",
       "      <td>0.0</td>\n",
       "      <td>0.0</td>\n",
       "      <td>0.0</td>\n",
       "      <td>0.0</td>\n",
       "      <td>0.0</td>\n",
       "      <td>0.0</td>\n",
       "      <td>0.0</td>\n",
       "      <td>0.0</td>\n",
       "      <td>0.0</td>\n",
       "      <td>0.0</td>\n",
       "      <td>0.0</td>\n",
       "      <td>0.0</td>\n",
       "      <td>0.0</td>\n",
       "      <td>0.0</td>\n",
       "      <td>0.0</td>\n",
       "      <td>1.0</td>\n",
       "      <td>0.0</td>\n",
       "      <td>0.0</td>\n",
       "      <td>0.0</td>\n",
       "      <td>1.0</td>\n",
       "      <td>0.0</td>\n",
       "      <td>0.0</td>\n",
       "      <td>0.0</td>\n",
       "      <td>0.0</td>\n",
       "      <td>0.0</td>\n",
       "      <td>0.0</td>\n",
       "      <td>0.0</td>\n",
       "      <td>0.0</td>\n",
       "      <td>1.0</td>\n",
       "      <td>0.333333</td>\n",
       "      <td>0.000000</td>\n",
       "      <td>0.2</td>\n",
       "      <td>0.446903</td>\n",
       "      <td>0.79235</td>\n",
       "      <td>0.051975</td>\n",
       "      <td>0.17616</td>\n",
       "      <td>0.995134</td>\n",
       "      <td>0.003190</td>\n",
       "    </tr>\n",
       "  </tbody>\n",
       "</table>\n",
       "<p>5 rows × 630 columns</p>\n",
       "</div>"
      ],
      "text/plain": [
       "   Suburb=Abbotsford  Suburb=Aberfeldie  ...  YearBuilt  BuildingArea\n",
       "0                1.0                0.0  ...        NaN           NaN\n",
       "1                1.0                0.0  ...   0.856448      0.001775\n",
       "2                1.0                0.0  ...   0.856448      0.003370\n",
       "3                1.0                0.0  ...        NaN           NaN\n",
       "4                1.0                0.0  ...   0.995134      0.003190\n",
       "\n",
       "[5 rows x 630 columns]"
      ]
     },
     "execution_count": 19,
     "metadata": {
      "tags": []
     },
     "output_type": "execute_result"
    }
   ],
   "source": [
    "matriz_densa_ampliada_df = pandas.DataFrame(data=matriz_densa_ampliada, columns=new_columns+columns_to_predict)\n",
    "matriz_densa_ampliada_df.head()\n"
   ]
  },
  {
   "cell_type": "markdown",
   "metadata": {
    "id": "U9BFINL4aM4r"
   },
   "source": [
    "Creamos los dos conjuntos de datos"
   ]
  },
  {
   "cell_type": "markdown",
   "metadata": {
    "id": "fRaevk1yayd8"
   },
   "source": [
    "Usaremos el training_set para entrenar al algoritmo y luego predeciremos los valores del set_to_predict"
   ]
  },
  {
   "cell_type": "code",
   "execution_count": null,
   "metadata": {
    "id": "OfPN1PMndY6m"
   },
   "outputs": [],
   "source": [
    "#unscaled_predictions = scaler.inverse_transform(predictions)\n",
    "#unscaled_predictions"
   ]
  },
  {
   "cell_type": "markdown",
   "metadata": {
    "id": "MkAoMKzFf61W"
   },
   "source": [
    "Seteamos los valores del conjunto de datos a predecir con los resultados correspondientes:"
   ]
  },
  {
   "cell_type": "code",
   "execution_count": null,
   "metadata": {
    "colab": {
     "base_uri": "https://localhost:8080/"
    },
    "id": "G4ClSr_JapCw",
    "outputId": "dbfb467a-ea11-4774-f905-48a1376ea499"
   },
   "outputs": [
    {
     "name": "stderr",
     "output_type": "stream",
     "text": [
      "/usr/local/lib/python3.7/dist-packages/sklearn/impute/_iterative.py:638: ConvergenceWarning: [IterativeImputer] Early stopping criterion not reached.\n",
      "  \" reached.\", ConvergenceWarning)\n"
     ]
    }
   ],
   "source": [
    "from sklearn.experimental import enable_iterative_imputer\n",
    "from sklearn.neighbors import KNeighborsRegressor\n",
    "from sklearn.impute import IterativeImputer\n",
    "\n",
    "melb_data_mice = melb_df.copy(deep=True)\n",
    "\n",
    "mice_imputer = IterativeImputer(random_state=0, estimator=KNeighborsRegressor())\n",
    "melb_data_mice[['YearBuilt','BuildingArea']] = mice_imputer.fit_transform(\n",
    "    melb_data_mice[['YearBuilt', 'BuildingArea']])"
   ]
  },
  {
   "cell_type": "markdown",
   "metadata": {
    "id": "ImjXQZUbVoKH"
   },
   "source": [
    "Ejemplo de gráfico comparando las distribuciones de datos obtenidas con cada método de imputación."
   ]
  },
  {
   "cell_type": "code",
   "execution_count": null,
   "metadata": {
    "colab": {
     "base_uri": "https://localhost:8080/",
     "height": 355
    },
    "id": "PMK1ktqYQTJK",
    "outputId": "de9fde74-677c-4869-8363-3dddb91bf6d9"
   },
   "outputs": [
    {
     "data": {
      "image/png": "[encoded data removed]",
      "text/plain": [
       "<Figure size 576x360 with 1 Axes>"
      ]
     },
     "metadata": {
      "needs_background": "light",
      "tags": []
     },
     "output_type": "display_data"
    }
   ],
   "source": [
    "mice_year_built = melb_data_mice.YearBuilt.to_frame()\n",
    "mice_year_built['Imputation'] = 'KNN over YearBuilt and BuildingArea'\n",
    "melb_year_build = melb_df.YearBuilt.dropna().to_frame()\n",
    "melb_year_build['Imputation'] = 'Original'\n",
    "data = pandas.concat([mice_year_built, melb_year_build])\n",
    "fig = plt.figure(figsize=(8, 5))\n",
    "g = seaborn.kdeplot(data=data, x='YearBuilt', hue='Imputation')"
   ]
  },
  {
   "cell_type": "code",
   "execution_count": null,
   "metadata": {
    "colab": {
     "base_uri": "https://localhost:8080/",
     "height": 626
    },
    "id": "Ogwn9tvGhnOU",
    "outputId": "0fa096c8-9cf7-48a4-f971-a620f194d5b6"
   },
   "outputs": [
    {
     "data": {
      "text/html": [
       "<div>\n",
       "<style scoped>\n",
       "    .dataframe tbody tr th:only-of-type {\n",
       "        vertical-align: middle;\n",
       "    }\n",
       "\n",
       "    .dataframe tbody tr th {\n",
       "        vertical-align: top;\n",
       "    }\n",
       "\n",
       "    .dataframe thead th {\n",
       "        text-align: right;\n",
       "    }\n",
       "</style>\n",
       "<table border=\"1\" class=\"dataframe\">\n",
       "  <thead>\n",
       "    <tr style=\"text-align: right;\">\n",
       "      <th></th>\n",
       "      <th>Suburb</th>\n",
       "      <th>Rooms</th>\n",
       "      <th>Type</th>\n",
       "      <th>Price</th>\n",
       "      <th>Method</th>\n",
       "      <th>Distance</th>\n",
       "      <th>Postcode</th>\n",
       "      <th>Bathroom</th>\n",
       "      <th>Car</th>\n",
       "      <th>Landsize</th>\n",
       "      <th>BuildingArea</th>\n",
       "      <th>YearBuilt</th>\n",
       "      <th>CouncilArea</th>\n",
       "      <th>Lattitude</th>\n",
       "      <th>Longtitude</th>\n",
       "      <th>Regionname</th>\n",
       "      <th>Propertycount</th>\n",
       "      <th>review_scores_location</th>\n",
       "    </tr>\n",
       "  </thead>\n",
       "  <tbody>\n",
       "    <tr>\n",
       "      <th>0</th>\n",
       "      <td>Abbotsford</td>\n",
       "      <td>2</td>\n",
       "      <td>h</td>\n",
       "      <td>1480000.0</td>\n",
       "      <td>S</td>\n",
       "      <td>2.5</td>\n",
       "      <td>3067.0</td>\n",
       "      <td>1.0</td>\n",
       "      <td>1.0</td>\n",
       "      <td>202.0</td>\n",
       "      <td>102.0</td>\n",
       "      <td>1961.8</td>\n",
       "      <td>Yarra</td>\n",
       "      <td>-37.79960</td>\n",
       "      <td>144.99840</td>\n",
       "      <td>Northern Metropolitan</td>\n",
       "      <td>4019.0</td>\n",
       "      <td>9.688525</td>\n",
       "    </tr>\n",
       "    <tr>\n",
       "      <th>1</th>\n",
       "      <td>Abbotsford</td>\n",
       "      <td>2</td>\n",
       "      <td>h</td>\n",
       "      <td>1035000.0</td>\n",
       "      <td>S</td>\n",
       "      <td>2.5</td>\n",
       "      <td>3067.0</td>\n",
       "      <td>1.0</td>\n",
       "      <td>0.0</td>\n",
       "      <td>156.0</td>\n",
       "      <td>79.0</td>\n",
       "      <td>1900.0</td>\n",
       "      <td>Yarra</td>\n",
       "      <td>-37.80790</td>\n",
       "      <td>144.99340</td>\n",
       "      <td>Northern Metropolitan</td>\n",
       "      <td>4019.0</td>\n",
       "      <td>9.688525</td>\n",
       "    </tr>\n",
       "    <tr>\n",
       "      <th>2</th>\n",
       "      <td>Abbotsford</td>\n",
       "      <td>3</td>\n",
       "      <td>h</td>\n",
       "      <td>1465000.0</td>\n",
       "      <td>SP</td>\n",
       "      <td>2.5</td>\n",
       "      <td>3067.0</td>\n",
       "      <td>2.0</td>\n",
       "      <td>0.0</td>\n",
       "      <td>134.0</td>\n",
       "      <td>150.0</td>\n",
       "      <td>1900.0</td>\n",
       "      <td>Yarra</td>\n",
       "      <td>-37.80930</td>\n",
       "      <td>144.99440</td>\n",
       "      <td>Northern Metropolitan</td>\n",
       "      <td>4019.0</td>\n",
       "      <td>9.688525</td>\n",
       "    </tr>\n",
       "    <tr>\n",
       "      <th>3</th>\n",
       "      <td>Abbotsford</td>\n",
       "      <td>3</td>\n",
       "      <td>h</td>\n",
       "      <td>850000.0</td>\n",
       "      <td>PI</td>\n",
       "      <td>2.5</td>\n",
       "      <td>3067.0</td>\n",
       "      <td>2.0</td>\n",
       "      <td>1.0</td>\n",
       "      <td>94.0</td>\n",
       "      <td>102.0</td>\n",
       "      <td>1961.8</td>\n",
       "      <td>Yarra</td>\n",
       "      <td>-37.79690</td>\n",
       "      <td>144.99690</td>\n",
       "      <td>Northern Metropolitan</td>\n",
       "      <td>4019.0</td>\n",
       "      <td>9.688525</td>\n",
       "    </tr>\n",
       "    <tr>\n",
       "      <th>4</th>\n",
       "      <td>Abbotsford</td>\n",
       "      <td>4</td>\n",
       "      <td>h</td>\n",
       "      <td>1600000.0</td>\n",
       "      <td>VB</td>\n",
       "      <td>2.5</td>\n",
       "      <td>3067.0</td>\n",
       "      <td>1.0</td>\n",
       "      <td>2.0</td>\n",
       "      <td>120.0</td>\n",
       "      <td>142.0</td>\n",
       "      <td>2014.0</td>\n",
       "      <td>Yarra</td>\n",
       "      <td>-37.80720</td>\n",
       "      <td>144.99410</td>\n",
       "      <td>Northern Metropolitan</td>\n",
       "      <td>4019.0</td>\n",
       "      <td>9.688525</td>\n",
       "    </tr>\n",
       "    <tr>\n",
       "      <th>...</th>\n",
       "      <td>...</td>\n",
       "      <td>...</td>\n",
       "      <td>...</td>\n",
       "      <td>...</td>\n",
       "      <td>...</td>\n",
       "      <td>...</td>\n",
       "      <td>...</td>\n",
       "      <td>...</td>\n",
       "      <td>...</td>\n",
       "      <td>...</td>\n",
       "      <td>...</td>\n",
       "      <td>...</td>\n",
       "      <td>...</td>\n",
       "      <td>...</td>\n",
       "      <td>...</td>\n",
       "      <td>...</td>\n",
       "      <td>...</td>\n",
       "      <td>...</td>\n",
       "    </tr>\n",
       "    <tr>\n",
       "      <th>13458</th>\n",
       "      <td>Wheelers Hill</td>\n",
       "      <td>4</td>\n",
       "      <td>h</td>\n",
       "      <td>1245000.0</td>\n",
       "      <td>S</td>\n",
       "      <td>16.7</td>\n",
       "      <td>3150.0</td>\n",
       "      <td>2.0</td>\n",
       "      <td>2.0</td>\n",
       "      <td>652.0</td>\n",
       "      <td>73.6</td>\n",
       "      <td>1981.0</td>\n",
       "      <td>Wheelers Hill</td>\n",
       "      <td>-37.90562</td>\n",
       "      <td>145.16761</td>\n",
       "      <td>South-Eastern Metropolitan</td>\n",
       "      <td>7392.0</td>\n",
       "      <td>9.417582</td>\n",
       "    </tr>\n",
       "    <tr>\n",
       "      <th>13459</th>\n",
       "      <td>Williamstown</td>\n",
       "      <td>3</td>\n",
       "      <td>h</td>\n",
       "      <td>1031000.0</td>\n",
       "      <td>SP</td>\n",
       "      <td>6.8</td>\n",
       "      <td>3016.0</td>\n",
       "      <td>2.0</td>\n",
       "      <td>2.0</td>\n",
       "      <td>333.0</td>\n",
       "      <td>133.0</td>\n",
       "      <td>1995.0</td>\n",
       "      <td>Williamstown</td>\n",
       "      <td>-37.85927</td>\n",
       "      <td>144.87904</td>\n",
       "      <td>Western Metropolitan</td>\n",
       "      <td>6380.0</td>\n",
       "      <td>9.785714</td>\n",
       "    </tr>\n",
       "    <tr>\n",
       "      <th>13460</th>\n",
       "      <td>Williamstown</td>\n",
       "      <td>3</td>\n",
       "      <td>h</td>\n",
       "      <td>1170000.0</td>\n",
       "      <td>S</td>\n",
       "      <td>6.8</td>\n",
       "      <td>3016.0</td>\n",
       "      <td>2.0</td>\n",
       "      <td>4.0</td>\n",
       "      <td>436.0</td>\n",
       "      <td>199.2</td>\n",
       "      <td>1997.0</td>\n",
       "      <td>Williamstown</td>\n",
       "      <td>-37.85274</td>\n",
       "      <td>144.88738</td>\n",
       "      <td>Western Metropolitan</td>\n",
       "      <td>6380.0</td>\n",
       "      <td>9.785714</td>\n",
       "    </tr>\n",
       "    <tr>\n",
       "      <th>13461</th>\n",
       "      <td>Williamstown</td>\n",
       "      <td>4</td>\n",
       "      <td>h</td>\n",
       "      <td>2500000.0</td>\n",
       "      <td>PI</td>\n",
       "      <td>6.8</td>\n",
       "      <td>3016.0</td>\n",
       "      <td>1.0</td>\n",
       "      <td>5.0</td>\n",
       "      <td>866.0</td>\n",
       "      <td>157.0</td>\n",
       "      <td>1920.0</td>\n",
       "      <td>Williamstown</td>\n",
       "      <td>-37.85908</td>\n",
       "      <td>144.89299</td>\n",
       "      <td>Western Metropolitan</td>\n",
       "      <td>6380.0</td>\n",
       "      <td>9.785714</td>\n",
       "    </tr>\n",
       "    <tr>\n",
       "      <th>13462</th>\n",
       "      <td>Yarraville</td>\n",
       "      <td>4</td>\n",
       "      <td>h</td>\n",
       "      <td>1285000.0</td>\n",
       "      <td>SP</td>\n",
       "      <td>6.3</td>\n",
       "      <td>3013.0</td>\n",
       "      <td>1.0</td>\n",
       "      <td>1.0</td>\n",
       "      <td>362.0</td>\n",
       "      <td>112.0</td>\n",
       "      <td>1920.0</td>\n",
       "      <td>Yarraville</td>\n",
       "      <td>-37.81188</td>\n",
       "      <td>144.88449</td>\n",
       "      <td>Western Metropolitan</td>\n",
       "      <td>6543.0</td>\n",
       "      <td>9.484848</td>\n",
       "    </tr>\n",
       "  </tbody>\n",
       "</table>\n",
       "<p>13463 rows × 18 columns</p>\n",
       "</div>"
      ],
      "text/plain": [
       "              Suburb  Rooms  ... Propertycount  review_scores_location\n",
       "0         Abbotsford      2  ...        4019.0                9.688525\n",
       "1         Abbotsford      2  ...        4019.0                9.688525\n",
       "2         Abbotsford      3  ...        4019.0                9.688525\n",
       "3         Abbotsford      3  ...        4019.0                9.688525\n",
       "4         Abbotsford      4  ...        4019.0                9.688525\n",
       "...              ...    ...  ...           ...                     ...\n",
       "13458  Wheelers Hill      4  ...        7392.0                9.417582\n",
       "13459   Williamstown      3  ...        6380.0                9.785714\n",
       "13460   Williamstown      3  ...        6380.0                9.785714\n",
       "13461   Williamstown      4  ...        6380.0                9.785714\n",
       "13462     Yarraville      4  ...        6543.0                9.484848\n",
       "\n",
       "[13463 rows x 18 columns]"
      ]
     },
     "execution_count": 23,
     "metadata": {
      "tags": []
     },
     "output_type": "execute_result"
    }
   ],
   "source": [
    "melb_data_mice"
   ]
  },
  {
   "cell_type": "code",
   "execution_count": null,
   "metadata": {
    "id": "QkLPvHdKcLmA"
   },
   "outputs": [],
   "source": []
  },
  {
   "cell_type": "code",
   "execution_count": null,
   "metadata": {
    "colab": {
     "base_uri": "https://localhost:8080/"
    },
    "id": "PiJYc1cvcMJI",
    "outputId": "302e6974-bb4e-457d-bcd1-435b81f0ce5f"
   },
   "outputs": [
    {
     "name": "stderr",
     "output_type": "stream",
     "text": [
      "/usr/local/lib/python3.7/dist-packages/sklearn/impute/_iterative.py:638: ConvergenceWarning: [IterativeImputer] Early stopping criterion not reached.\n",
      "  \" reached.\", ConvergenceWarning)\n"
     ]
    }
   ],
   "source": [
    "melb_data_mice_full = matriz_densa_ampliada_df.copy(deep=True)\n",
    "\n",
    "mice_imputer = IterativeImputer(random_state=0, estimator=KNeighborsRegressor())\n",
    "melb_data_mice_full[['YearBuilt','BuildingArea']] = mice_imputer.fit_transform(\n",
    "    melb_data_mice_full[['YearBuilt', 'BuildingArea']])"
   ]
  },
  {
   "cell_type": "code",
   "execution_count": null,
   "metadata": {
    "colab": {
     "base_uri": "https://localhost:8080/"
    },
    "id": "EyA9GQ_lcl5F",
    "outputId": "5438aadb-9bb1-4966-ad5c-4a2a94190a81"
   },
   "outputs": [
    {
     "data": {
      "text/plain": [
       "Suburb=Abbotsford         0\n",
       "Suburb=Aberfeldie         0\n",
       "Suburb=Airport West       0\n",
       "Suburb=Albanvale          0\n",
       "Suburb=Albert Park        0\n",
       "                         ..\n",
       "review_scores_location    0\n",
       "Distance                  0\n",
       "Propertycount             0\n",
       "YearBuilt                 0\n",
       "BuildingArea              0\n",
       "Length: 630, dtype: int64"
      ]
     },
     "execution_count": 25,
     "metadata": {
      "tags": []
     },
     "output_type": "execute_result"
    }
   ],
   "source": [
    "melb_data_mice_full.isna().sum()"
   ]
  },
  {
   "cell_type": "code",
   "execution_count": null,
   "metadata": {
    "id": "-FgT-nWIdlCR"
   },
   "outputs": [],
   "source": [
    "target_data= melb_data_mice_full[['YearBuilt', 'BuildingArea']]"
   ]
  },
  {
   "cell_type": "code",
   "execution_count": null,
   "metadata": {
    "colab": {
     "base_uri": "https://localhost:8080/",
     "height": 204
    },
    "id": "5OSf2s9mlTU0",
    "outputId": "a87b215b-9b2f-4860-a642-94342d14af28"
   },
   "outputs": [
    {
     "data": {
      "text/html": [
       "<div>\n",
       "<style scoped>\n",
       "    .dataframe tbody tr th:only-of-type {\n",
       "        vertical-align: middle;\n",
       "    }\n",
       "\n",
       "    .dataframe tbody tr th {\n",
       "        vertical-align: top;\n",
       "    }\n",
       "\n",
       "    .dataframe thead th {\n",
       "        text-align: right;\n",
       "    }\n",
       "</style>\n",
       "<table border=\"1\" class=\"dataframe\">\n",
       "  <thead>\n",
       "    <tr style=\"text-align: right;\">\n",
       "      <th></th>\n",
       "      <th>YearBuilt</th>\n",
       "      <th>BuildingArea</th>\n",
       "    </tr>\n",
       "  </thead>\n",
       "  <tbody>\n",
       "    <tr>\n",
       "      <th>0</th>\n",
       "      <td>0.941606</td>\n",
       "      <td>0.001377</td>\n",
       "    </tr>\n",
       "    <tr>\n",
       "      <th>1</th>\n",
       "      <td>0.856448</td>\n",
       "      <td>0.001775</td>\n",
       "    </tr>\n",
       "    <tr>\n",
       "      <th>2</th>\n",
       "      <td>0.856448</td>\n",
       "      <td>0.003370</td>\n",
       "    </tr>\n",
       "    <tr>\n",
       "      <th>3</th>\n",
       "      <td>0.941606</td>\n",
       "      <td>0.001377</td>\n",
       "    </tr>\n",
       "    <tr>\n",
       "      <th>4</th>\n",
       "      <td>0.995134</td>\n",
       "      <td>0.003190</td>\n",
       "    </tr>\n",
       "  </tbody>\n",
       "</table>\n",
       "</div>"
      ],
      "text/plain": [
       "   YearBuilt  BuildingArea\n",
       "0   0.941606      0.001377\n",
       "1   0.856448      0.001775\n",
       "2   0.856448      0.003370\n",
       "3   0.941606      0.001377\n",
       "4   0.995134      0.003190"
      ]
     },
     "execution_count": 32,
     "metadata": {
      "tags": []
     },
     "output_type": "execute_result"
    }
   ],
   "source": [
    "target_data.head()\n"
   ]
  },
  {
   "cell_type": "code",
   "execution_count": null,
   "metadata": {
    "colab": {
     "base_uri": "https://localhost:8080/"
    },
    "id": "FbkukkwYdK5I",
    "outputId": "a19d959d-0230-44f7-a300-7e2e576364d6"
   },
   "outputs": [
    {
     "data": {
      "text/plain": [
       "array([[1970.  ,   61.28],\n",
       "       [1900.  ,   79.  ],\n",
       "       [1900.  ,  150.  ],\n",
       "       ...,\n",
       "       [1997.  ,  133.4 ],\n",
       "       [1920.  ,  157.  ],\n",
       "       [1920.  ,  112.  ]])"
      ]
     },
     "execution_count": 33,
     "metadata": {
      "tags": []
     },
     "output_type": "execute_result"
    }
   ],
   "source": [
    "unscaled_predictions = scaler.inverse_transform(target_data)\n",
    "unscaled_predictions"
   ]
  },
  {
   "cell_type": "code",
   "execution_count": null,
   "metadata": {
    "colab": {
     "base_uri": "https://localhost:8080/",
     "height": 204
    },
    "id": "wqmhv3dBlmW3",
    "outputId": "99b99fd0-77a7-42af-b071-8ce91b04e8c6"
   },
   "outputs": [
    {
     "data": {
      "text/html": [
       "<div>\n",
       "<style scoped>\n",
       "    .dataframe tbody tr th:only-of-type {\n",
       "        vertical-align: middle;\n",
       "    }\n",
       "\n",
       "    .dataframe tbody tr th {\n",
       "        vertical-align: top;\n",
       "    }\n",
       "\n",
       "    .dataframe thead th {\n",
       "        text-align: right;\n",
       "    }\n",
       "</style>\n",
       "<table border=\"1\" class=\"dataframe\">\n",
       "  <thead>\n",
       "    <tr style=\"text-align: right;\">\n",
       "      <th></th>\n",
       "      <th>YearBuilt</th>\n",
       "      <th>BuildingArea</th>\n",
       "      <th>Imputation</th>\n",
       "    </tr>\n",
       "  </thead>\n",
       "  <tbody>\n",
       "    <tr>\n",
       "      <th>0</th>\n",
       "      <td>1970.0</td>\n",
       "      <td>61.28</td>\n",
       "      <td>KNN over all columns</td>\n",
       "    </tr>\n",
       "    <tr>\n",
       "      <th>1</th>\n",
       "      <td>1900.0</td>\n",
       "      <td>79.00</td>\n",
       "      <td>KNN over all columns</td>\n",
       "    </tr>\n",
       "    <tr>\n",
       "      <th>2</th>\n",
       "      <td>1900.0</td>\n",
       "      <td>150.00</td>\n",
       "      <td>KNN over all columns</td>\n",
       "    </tr>\n",
       "    <tr>\n",
       "      <th>3</th>\n",
       "      <td>1970.0</td>\n",
       "      <td>61.28</td>\n",
       "      <td>KNN over all columns</td>\n",
       "    </tr>\n",
       "    <tr>\n",
       "      <th>4</th>\n",
       "      <td>2014.0</td>\n",
       "      <td>142.00</td>\n",
       "      <td>KNN over all columns</td>\n",
       "    </tr>\n",
       "  </tbody>\n",
       "</table>\n",
       "</div>"
      ],
      "text/plain": [
       "   YearBuilt  BuildingArea            Imputation\n",
       "0     1970.0         61.28  KNN over all columns\n",
       "1     1900.0         79.00  KNN over all columns\n",
       "2     1900.0        150.00  KNN over all columns\n",
       "3     1970.0         61.28  KNN over all columns\n",
       "4     2014.0        142.00  KNN over all columns"
      ]
     },
     "execution_count": 38,
     "metadata": {
      "tags": []
     },
     "output_type": "execute_result"
    }
   ],
   "source": [
    "import numpy as np\n",
    "new_df = pandas.DataFrame(data=unscaled_predictions, columns=['YearBuilt', \"BuildingArea\"])\n",
    "new_df.loc[:, 'Imputation'] = 'KNN over all columns'\n",
    "new_df.head()"
   ]
  },
  {
   "cell_type": "code",
   "execution_count": null,
   "metadata": {
    "colab": {
     "base_uri": "https://localhost:8080/",
     "height": 355
    },
    "id": "4tMoqB2Acz4H",
    "outputId": "746917a8-07fa-467c-e18c-47e14336cedb"
   },
   "outputs": [
    {
     "data": {
      "image/png": "[encoded data removed]",
      "text/plain": [
       "<Figure size 576x360 with 1 Axes>"
      ]
     },
     "metadata": {
      "needs_background": "light",
      "tags": []
     },
     "output_type": "display_data"
    }
   ],
   "source": [
    "mice_year_built = melb_data_mice.YearBuilt.to_frame()\n",
    "mice_year_built['Imputation'] = 'KNN over YearBuilt and BuildingArea'\n",
    "melb_year_build = melb_df.YearBuilt.dropna().to_frame()\n",
    "melb_year_build['Imputation'] = 'Original'\n",
    "data = pandas.concat([mice_year_built, melb_year_build, new_df])\n",
    "fig = plt.figure(figsize=(8, 5))\n",
    "g = seaborn.kdeplot(data=data, x='YearBuilt', hue='Imputation')"
   ]
  },
  {
   "cell_type": "code",
   "execution_count": null,
   "metadata": {
    "colab": {
     "base_uri": "https://localhost:8080/",
     "height": 355
    },
    "id": "IwVutEEZontI",
    "outputId": "eb2c57a7-7dcd-4a12-c68a-732519ff2320"
   },
   "outputs": [
    {
     "data": {
      "image/png": "[encoded data removed]",
      "text/plain": [
       "<Figure size 576x360 with 1 Axes>"
      ]
     },
     "metadata": {
      "needs_background": "light",
      "tags": []
     },
     "output_type": "display_data"
    }
   ],
   "source": [
    "mice_BuildingArea = melb_data_mice.BuildingArea.to_frame()\n",
    "mice_BuildingArea['Imputation'] = 'KNN over YearBuilt and BuildingArea'\n",
    "melb_BuildingArea = melb_df.BuildingArea.dropna().to_frame()\n",
    "melb_BuildingArea['Imputation'] = 'Original'\n",
    "data = pandas.concat([mice_BuildingArea, melb_BuildingArea, new_df])\n",
    "fig = plt.figure(figsize=(8, 5))\n",
    "g = seaborn.kdeplot(data=data, x='BuildingArea', hue='Imputation')"
   ]
  },
  {
   "cell_type": "code",
   "execution_count": null,
   "metadata": {
    "colab": {
     "base_uri": "https://localhost:8080/",
     "height": 297
    },
    "id": "DckMcSAvpbaY",
    "outputId": "adcfc2f8-d797-4934-8ba4-7a0d1399e8eb"
   },
   "outputs": [
    {
     "data": {
      "text/html": [
       "<div>\n",
       "<style scoped>\n",
       "    .dataframe tbody tr th:only-of-type {\n",
       "        vertical-align: middle;\n",
       "    }\n",
       "\n",
       "    .dataframe tbody tr th {\n",
       "        vertical-align: top;\n",
       "    }\n",
       "\n",
       "    .dataframe thead th {\n",
       "        text-align: right;\n",
       "    }\n",
       "</style>\n",
       "<table border=\"1\" class=\"dataframe\">\n",
       "  <thead>\n",
       "    <tr style=\"text-align: right;\">\n",
       "      <th></th>\n",
       "      <th>YearBuilt</th>\n",
       "      <th>BuildingArea</th>\n",
       "    </tr>\n",
       "  </thead>\n",
       "  <tbody>\n",
       "    <tr>\n",
       "      <th>count</th>\n",
       "      <td>13463.000000</td>\n",
       "      <td>13463.000000</td>\n",
       "    </tr>\n",
       "    <tr>\n",
       "      <th>mean</th>\n",
       "      <td>1966.825967</td>\n",
       "      <td>114.307761</td>\n",
       "    </tr>\n",
       "    <tr>\n",
       "      <th>std</th>\n",
       "      <td>29.069527</td>\n",
       "      <td>395.939994</td>\n",
       "    </tr>\n",
       "    <tr>\n",
       "      <th>min</th>\n",
       "      <td>1196.000000</td>\n",
       "      <td>0.000000</td>\n",
       "    </tr>\n",
       "    <tr>\n",
       "      <th>25%</th>\n",
       "      <td>1960.000000</td>\n",
       "      <td>61.280000</td>\n",
       "    </tr>\n",
       "    <tr>\n",
       "      <th>50%</th>\n",
       "      <td>1970.000000</td>\n",
       "      <td>85.000000</td>\n",
       "    </tr>\n",
       "    <tr>\n",
       "      <th>75%</th>\n",
       "      <td>1975.000000</td>\n",
       "      <td>139.200000</td>\n",
       "    </tr>\n",
       "    <tr>\n",
       "      <th>max</th>\n",
       "      <td>2018.000000</td>\n",
       "      <td>44515.000000</td>\n",
       "    </tr>\n",
       "  </tbody>\n",
       "</table>\n",
       "</div>"
      ],
      "text/plain": [
       "          YearBuilt  BuildingArea\n",
       "count  13463.000000  13463.000000\n",
       "mean    1966.825967    114.307761\n",
       "std       29.069527    395.939994\n",
       "min     1196.000000      0.000000\n",
       "25%     1960.000000     61.280000\n",
       "50%     1970.000000     85.000000\n",
       "75%     1975.000000    139.200000\n",
       "max     2018.000000  44515.000000"
      ]
     },
     "execution_count": 41,
     "metadata": {
      "tags": []
     },
     "output_type": "execute_result"
    }
   ],
   "source": [
    "new_df.describe()"
   ]
  },
  {
   "cell_type": "markdown",
   "metadata": {
    "id": "NBN7-5OIxjJW"
   },
   "source": [
    "## Ejercicio 3: Reducción de dimensionalidad.\n",
    "\n",
    "Utilizando la matriz obtenida en el ejercicio anterior:\n",
    "1. Aplique `PCA` para obtener $n$ componentes principales de la matriz, donde `n = min(20, X.shape[0])`. ¿Es necesario estandarizar o escalar los datos?\n",
    "2. Grafique la varianza capturada por los primeros $n$ componentes principales, para cada $n$.\n",
    "3. En base al gráfico, seleccione las primeras $m$ columnas de la matriz transformada para agregar como nuevas características al conjunto de datos."
   ]
  },
  {
   "cell_type": "code",
   "execution_count": null,
   "metadata": {
    "id": "BkvzbzhTfFKX"
   },
   "outputs": [],
   "source": [
    "from sklearn.decomposition import PCA\n",
    "n = min(20, melb_data_mice_full.shape[1])\n",
    "pca = PCA(n_components=n)\n",
    "pca.fit(melb_data_mice_full)\n",
    "proyected_features = pca.transform(melb_data_mice_full)\n",
    "proyected_features.shape"
   ]
  },
  {
   "cell_type": "code",
   "execution_count": null,
   "metadata": {
    "id": "HcXbb-sCgS2K"
   },
   "outputs": [],
   "source": [
    "pca.explained_variance_ratio_"
   ]
  },
  {
   "cell_type": "code",
   "execution_count": null,
   "metadata": {
    "id": "syJ_y335hcgq"
   },
   "outputs": [],
   "source": [
    "seaborn.lineplot(x=range(pca.n_components),\n",
    "                 y=pca.explained_variance_ratio_)\n",
    "plt.ylabel(\"Ratio of variance explained\")\n",
    "plt.xlabel(\"Components\")"
   ]
  },
  {
   "cell_type": "code",
   "execution_count": null,
   "metadata": {
    "id": "J1iHYpqogToa"
   },
   "outputs": [],
   "source": [
    "melb_data_mice_full[['pca1_scaled', 'pca2_scaled','pca3_scaled','pca4_scaled','pca5_scaled']] = proyected_features[:,:5]\n",
    "melb_data_mice_full.head()"
   ]
  },
  {
   "cell_type": "code",
   "execution_count": null,
   "metadata": {
    "id": "c7Afb0CfjE5R"
   },
   "outputs": [],
   "source": [
    "melb_data_mice_full.to_csv('result_melbourne_df.csv', index=False)"
   ]
  },
  {
   "cell_type": "markdown",
   "metadata": {
    "id": "WrZTYmG_ZyDy"
   },
   "source": [
    "## Ejercicio 4: Composición del resultado\n",
    "\n",
    "Transformar nuevamente el conjunto de datos procesado en un `pandas.DataFrame` y guardarlo en un archivo.\n",
    "\n",
    "Para eso, será necesario recordar el nombre original de cada columna de la matriz, en el orden correcto. Tener en cuenta:\n",
    "1. El método `OneHotEncoder.get_feature_names` o el atributo `OneHotEncoder.categories_` permiten obtener una lista con los valores de la categoría que le corresponde a cada índice de la matriz.\n",
    "2. Ninguno de los métodos aplicados intercambia de lugar las columnas o las filas de la matriz."
   ]
  },
  {
   "cell_type": "code",
   "execution_count": null,
   "metadata": {
    "id": "DfchYPgTxvQ4"
   },
   "outputs": [],
   "source": [
    "## Small example\n",
    "from sklearn.decomposition import PCA\n",
    "from sklearn.preprocessing import OneHotEncoder\n",
    "\n",
    "## If we process our data with the following steps:\n",
    "categorical_cols = ['Type', 'Regionname']\n",
    "numerical_cols = ['Rooms', 'Distance']\n",
    "new_columns = []\n",
    "\n",
    "# Step 1: encode categorical columns\n",
    "encoder = OneHotEncoder(handle_unknown='ignore', sparse=False)\n",
    "X_cat = encoder.fit_transform(melb_df[categorical_cols])\n",
    "for col, col_values in zip(categorical_cols, encoder.categories_):\n",
    "  for col_value in col_values:\n",
    "    new_columns.append('{}={}'.format(col, col_value))\n",
    "print(\"Matrix has shape {}, with columns: {}\".format(X_cat.shape, new_columns))\n",
    "\n",
    "# Step 2: Append the numerical columns\n",
    "X = numpy.hstack([X_cat, melb_df[numerical_cols].values])\n",
    "new_columns.extend(numerical_cols)\n",
    "print(\"Matrix has shape {}, with columns: {}\".format(X_cat.shape, new_columns))\n",
    "\n",
    "# Step 3: Append some new features, like PCA\n",
    "pca = PCA(n_components=2)\n",
    "pca_dummy_features = pca.fit_transform(X)\n",
    "X_pca = numpy.hstack([X, pca_dummy_features])\n",
    "new_columns.extend(['pca1', 'pca2'])\n",
    "\n",
    "## Re-build dataframe\n",
    "processed_melb_df = pandas.DataFrame(data=X_pca, columns=new_columns)\n",
    "processed_melb_df.head()"
   ]
  },
  {
   "cell_type": "markdown",
   "metadata": {
    "id": "mVBLFc8PhRtW"
   },
   "source": [
    "## Ejercicio 5: Documentación\n",
    "\n",
    "En un documento `.pdf` o `.md` realizar un reporte de las operaciones que realizaron para obtener el conjunto de datos final. Se debe incluir:\n",
    "  1. Criterios de exclusión (o inclusión) de filas\n",
    "  2. Interpretación de las columnas presentes\n",
    "  2. Todas las transofrmaciones realizadas\n",
    "\n",
    "Este documento es de uso técnico exclusivamente, y su objetivo es permitir que otres desarrolladores puedan reproducir los mismos pasos y obtener el mismo resultado. Debe ser detallado pero consiso. Por ejemplo:\n",
    "\n",
    "```\n",
    "  ## Criterios de exclusión de ejemplos\n",
    "  1. Se eliminan ejemplos donde el año de construcción es previo a 1900\n",
    "\n",
    "  ## Características seleccionadas\n",
    "  ### Características categóricas\n",
    "  1. Type: tipo de propiedad. 3 valores posibles\n",
    "  2. ...\n",
    "  Todas las características categóricas fueron codificadas con un\n",
    "  método OneHotEncoding utilizando como máximo sus 30 valores más \n",
    "  frecuentes.\n",
    "  \n",
    "  ### Características numéricas\n",
    "  1. Rooms: Cantidad de habitaciones\n",
    "  2. Distance: Distancia al centro de la ciudad.\n",
    "  3. airbnb_mean_price: Se agrega el precio promedio diario de \n",
    "     publicaciones de la plataforma AirBnB en el mismo código \n",
    "     postal. [Link al repositorio con datos externos].\n",
    "\n",
    "  ### Transformaciones:\n",
    "  1. Todas las características numéricas fueron estandarizadas.\n",
    "  2. La columna `Suburb` fue imputada utilizando el método ...\n",
    "  3. Las columnas `YearBuilt` y ... fueron imputadas utilizando el \n",
    "     algoritmo ...\n",
    "  4. ...\n",
    "\n",
    "  ### Datos aumentados\n",
    "  1. Se agregan las 5 primeras columnas obtenidas a través del\n",
    "     método de PCA, aplicado sobre el conjunto de datos\n",
    "     totalmente procesado.\n",
    "```\n"
   ]
  },
  {
   "cell_type": "markdown",
   "metadata": {
    "id": "Bq7nuPg2HIYx"
   },
   "source": []
  }
 ],
 "metadata": {
  "colab": {
   "collapsed_sections": [
    "NBN7-5OIxjJW",
    "mVBLFc8PhRtW"
   ],
   "name": "Entregable_Parte2_grupo14_15_Jul.ipynb",
   "provenance": []
  },
  "kernelspec": {
   "display_name": "Python 3",
   "language": "python",
   "name": "python3"
  },
  "language_info": {
   "codemirror_mode": {
    "name": "ipython",
    "version": 3
   },
   "file_extension": ".py",
   "mimetype": "text/x-python",
   "name": "python",
   "nbconvert_exporter": "python",
   "pygments_lexer": "ipython3",
   "version": "3.8.5"
  }
 },
 "nbformat": 4,
 "nbformat_minor": 1
}
