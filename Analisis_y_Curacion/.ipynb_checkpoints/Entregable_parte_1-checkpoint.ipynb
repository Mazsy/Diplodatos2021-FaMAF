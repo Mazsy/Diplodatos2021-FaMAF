{
 "cells": [
  {
   "cell_type": "markdown",
   "metadata": {
    "id": "zO4bRoxr2Apy"
   },
   "source": [
    "**Diplomatura en Ciencia de Datos, Aprendizaje Automático y sus Aplicaciones**\n",
    "\n",
    "**Exploración y Curación de Datos**\n",
    "\n",
    "*Edición 2021*\n",
    "\n",
    "----\n",
    "\n",
    "# Trabajo práctico entregable - parte 1\n",
    "\n",
    "En esta notebook, vamos a cargar el conjunto de datos de [la compentencia Kaggle](https://www.kaggle.com/dansbecker/melbourne-housing-snapshot) sobre estimación de precios de ventas de propiedades en Melbourne, Australia.\n",
    "\n",
    "Utilizaremos el conjunto de datos reducido producido por [DanB](https://www.kaggle.com/dansbecker). Hemos subido una copia a un servidor de la Universidad Nacional de Córdoba para facilitar su acceso remoto."
   ]
  },
  {
   "cell_type": "code",
   "execution_count": 1,
   "metadata": {
    "id": "4udjxjk1EtVU"
   },
   "outputs": [],
   "source": [
    "import matplotlib.pyplot as plt\n",
    "import numpy\n",
    "import pandas\n",
    "\n",
    "import seaborn as sns \n",
    "\n",
    "sns.set_context('talk')"
   ]
  },
  {
   "cell_type": "code",
   "execution_count": 2,
   "metadata": {
    "colab": {
     "base_uri": "https://localhost:8080/",
     "height": 35
    },
    "id": "3XdIsB8hISis",
    "outputId": "1ffdd915-4b39-4269-f140-9ab22f887253"
   },
   "outputs": [
    {
     "data": {
      "text/plain": [
       "'4.14.3'"
      ]
     },
     "execution_count": 2,
     "metadata": {},
     "output_type": "execute_result"
    }
   ],
   "source": [
    "import plotly\n",
    "plotly.__version__\n",
    "# Make sure it's 4.14.3"
   ]
  },
  {
   "cell_type": "code",
   "execution_count": 3,
   "metadata": {
    "colab": {
     "base_uri": "https://localhost:8080/",
     "height": 230
    },
    "id": "_qeFN3GnEvMk",
    "outputId": "4edf53a1-91a3-454b-b72d-69d2b636bdab"
   },
   "outputs": [
    {
     "data": {
      "text/html": [
       "<div>\n",
       "<style scoped>\n",
       "    .dataframe tbody tr th:only-of-type {\n",
       "        vertical-align: middle;\n",
       "    }\n",
       "\n",
       "    .dataframe tbody tr th {\n",
       "        vertical-align: top;\n",
       "    }\n",
       "\n",
       "    .dataframe thead th {\n",
       "        text-align: right;\n",
       "    }\n",
       "</style>\n",
       "<table border=\"1\" class=\"dataframe\">\n",
       "  <thead>\n",
       "    <tr style=\"text-align: right;\">\n",
       "      <th></th>\n",
       "      <th>Suburb</th>\n",
       "      <th>Address</th>\n",
       "      <th>Rooms</th>\n",
       "      <th>Type</th>\n",
       "      <th>Price</th>\n",
       "      <th>Method</th>\n",
       "      <th>SellerG</th>\n",
       "      <th>Date</th>\n",
       "      <th>Distance</th>\n",
       "      <th>Postcode</th>\n",
       "      <th>...</th>\n",
       "      <th>Bathroom</th>\n",
       "      <th>Car</th>\n",
       "      <th>Landsize</th>\n",
       "      <th>BuildingArea</th>\n",
       "      <th>YearBuilt</th>\n",
       "      <th>CouncilArea</th>\n",
       "      <th>Lattitude</th>\n",
       "      <th>Longtitude</th>\n",
       "      <th>Regionname</th>\n",
       "      <th>Propertycount</th>\n",
       "    </tr>\n",
       "  </thead>\n",
       "  <tbody>\n",
       "    <tr>\n",
       "      <th>0</th>\n",
       "      <td>Abbotsford</td>\n",
       "      <td>85 Turner St</td>\n",
       "      <td>2</td>\n",
       "      <td>h</td>\n",
       "      <td>1480000.0</td>\n",
       "      <td>S</td>\n",
       "      <td>Biggin</td>\n",
       "      <td>3/12/2016</td>\n",
       "      <td>2.5</td>\n",
       "      <td>3067.0</td>\n",
       "      <td>...</td>\n",
       "      <td>1.0</td>\n",
       "      <td>1.0</td>\n",
       "      <td>202.0</td>\n",
       "      <td>NaN</td>\n",
       "      <td>NaN</td>\n",
       "      <td>Yarra</td>\n",
       "      <td>-37.7996</td>\n",
       "      <td>144.9984</td>\n",
       "      <td>Northern Metropolitan</td>\n",
       "      <td>4019.0</td>\n",
       "    </tr>\n",
       "    <tr>\n",
       "      <th>1</th>\n",
       "      <td>Abbotsford</td>\n",
       "      <td>25 Bloomburg St</td>\n",
       "      <td>2</td>\n",
       "      <td>h</td>\n",
       "      <td>1035000.0</td>\n",
       "      <td>S</td>\n",
       "      <td>Biggin</td>\n",
       "      <td>4/02/2016</td>\n",
       "      <td>2.5</td>\n",
       "      <td>3067.0</td>\n",
       "      <td>...</td>\n",
       "      <td>1.0</td>\n",
       "      <td>0.0</td>\n",
       "      <td>156.0</td>\n",
       "      <td>79.0</td>\n",
       "      <td>1900.0</td>\n",
       "      <td>Yarra</td>\n",
       "      <td>-37.8079</td>\n",
       "      <td>144.9934</td>\n",
       "      <td>Northern Metropolitan</td>\n",
       "      <td>4019.0</td>\n",
       "    </tr>\n",
       "    <tr>\n",
       "      <th>2</th>\n",
       "      <td>Abbotsford</td>\n",
       "      <td>5 Charles St</td>\n",
       "      <td>3</td>\n",
       "      <td>h</td>\n",
       "      <td>1465000.0</td>\n",
       "      <td>SP</td>\n",
       "      <td>Biggin</td>\n",
       "      <td>4/03/2017</td>\n",
       "      <td>2.5</td>\n",
       "      <td>3067.0</td>\n",
       "      <td>...</td>\n",
       "      <td>2.0</td>\n",
       "      <td>0.0</td>\n",
       "      <td>134.0</td>\n",
       "      <td>150.0</td>\n",
       "      <td>1900.0</td>\n",
       "      <td>Yarra</td>\n",
       "      <td>-37.8093</td>\n",
       "      <td>144.9944</td>\n",
       "      <td>Northern Metropolitan</td>\n",
       "      <td>4019.0</td>\n",
       "    </tr>\n",
       "  </tbody>\n",
       "</table>\n",
       "<p>3 rows × 21 columns</p>\n",
       "</div>"
      ],
      "text/plain": [
       "       Suburb          Address  Rooms Type      Price Method SellerG  \\\n",
       "0  Abbotsford     85 Turner St      2    h  1480000.0      S  Biggin   \n",
       "1  Abbotsford  25 Bloomburg St      2    h  1035000.0      S  Biggin   \n",
       "2  Abbotsford     5 Charles St      3    h  1465000.0     SP  Biggin   \n",
       "\n",
       "        Date  Distance  Postcode  ...  Bathroom  Car  Landsize  BuildingArea  \\\n",
       "0  3/12/2016       2.5    3067.0  ...       1.0  1.0     202.0           NaN   \n",
       "1  4/02/2016       2.5    3067.0  ...       1.0  0.0     156.0          79.0   \n",
       "2  4/03/2017       2.5    3067.0  ...       2.0  0.0     134.0         150.0   \n",
       "\n",
       "   YearBuilt  CouncilArea Lattitude  Longtitude             Regionname  \\\n",
       "0        NaN        Yarra  -37.7996    144.9984  Northern Metropolitan   \n",
       "1     1900.0        Yarra  -37.8079    144.9934  Northern Metropolitan   \n",
       "2     1900.0        Yarra  -37.8093    144.9944  Northern Metropolitan   \n",
       "\n",
       "  Propertycount  \n",
       "0        4019.0  \n",
       "1        4019.0  \n",
       "2        4019.0  \n",
       "\n",
       "[3 rows x 21 columns]"
      ]
     },
     "execution_count": 3,
     "metadata": {},
     "output_type": "execute_result"
    }
   ],
   "source": [
    "melb_data = pandas.read_csv(\n",
    "    'https://cs.famaf.unc.edu.ar/~mteruel/datasets/diplodatos/melb_data.csv')\n",
    "melb_df = melb_data.copy()\n",
    "melb_df[:3]"
   ]
  },
  {
   "cell_type": "markdown",
   "metadata": {
    "id": "s-mixICN22kA"
   },
   "source": [
    "## Ejercicio 1: \n",
    "\n",
    "1. Eliminar los valores extremos que no sean relevantes para la predicción de valores de las propiedades.\n",
    "\n",
    "1. Investigar la distribución de las variables del conjunto de datos y seleccionar un subconjunto de columnas que les parezcan relevantes al problema de predicción del valor de la propiedad.\n",
    "  1. Justificar cada columna no seleccionada.\n",
    "  2. Para las variables categóricas seleccionadas, agrupe o combine las categorías poco frecuentes para asegurar que todos los grupos tengan un número mínimo de registros.\n",
    "\n",
    "2. Agregar información adicional respectiva al entorno de una propiedad a partir del [conjunto de datos de AirBnB](https://www.kaggle.com/tylerx/melbourne-airbnb-open-data?select=cleansed_listings_dec18.csv) utilizado en el práctico. \n",
    "  1. Seleccionar qué variables agregar y qué combinaciones aplicar a cada una. Por ejemplo, pueden utilizar solo la columna `price`, o aplicar múltiples transformaciones como la mediana o el mínimo.\n",
    "  1. Utilizar la variable zipcode para unir los conjuntos de datos. Sólo incluir los zipcodes que tengan una cantidad mínima de registros (a elección) como para que la información agregada sea relevante.\n",
    "  2. Investigar al menos otras 2 variables que puedan servir para combinar los datos, y justificar si serían adecuadas o no. Pueden asumir que cuentan con la ayuda de anotadores expertos para encontrar equivalencias entre barrios o direcciones, o que cuentan con algoritmos para encontrar las n ubicaciones más cercanas a una propiedad a partir de sus coordenadas geográficas. **NO** es necesario que realicen la implementación.\n",
    "\n",
    "Pueden leer otras columnas del conjunto de AirBnB además de las que están en `interesting_cols`, si les parecen relevantes.\n"
   ]
  },
  {
   "cell_type": "code",
   "execution_count": null,
   "metadata": {
    "colab": {
     "base_uri": "https://localhost:8080/"
    },
    "id": "k3Z2vxNHJfJK",
    "outputId": "0a8b5dd3-c538-4771-aad5-2d63feb6ca31"
   },
   "outputs": [],
   "source": [
    "# data source:\n",
    "# https://www.kaggle.com/tylerx/melbourne-airbnb-open-data?select=cleansed_listings_dec18.csv\n",
    "interesting_cols = [\n",
    "  'suburb', 'zipcode','price', 'price','weekly_price', 'monthly_price','review_scores_location',\n",
    "  'latitude','longitude'\n",
    "]\n",
    "airbnb_df = pandas.read_csv(\n",
    "    'https://cs.famaf.unc.edu.ar/~mteruel/datasets/diplodatos/cleansed_listings_dec18.csv',\n",
    "    usecols=interesting_cols)"
   ]
  },
  {
   "cell_type": "markdown",
   "metadata": {
    "id": "4FyvkwOWHZGO"
   },
   "source": [
    "### Veamos un poco de què está compuesto nuestra data frame a analizar:"
   ]
  },
  {
   "cell_type": "code",
   "execution_count": null,
   "metadata": {
    "colab": {
     "base_uri": "https://localhost:8080/"
    },
    "id": "DzhIYO2qHZGP",
    "outputId": "f46cf5b8-949e-4a2b-e194-49dbe54f0f91"
   },
   "outputs": [],
   "source": [
    "melb_df.shape"
   ]
  },
  {
   "cell_type": "code",
   "execution_count": null,
   "metadata": {
    "colab": {
     "base_uri": "https://localhost:8080/"
    },
    "id": "IfSv_rWsHZGP",
    "outputId": "cc330d5a-6baa-41ec-921a-6bb0cd5e0f11"
   },
   "outputs": [],
   "source": [
    "#Columnas del melb_df\n",
    "melb_df.columns"
   ]
  },
  {
   "cell_type": "code",
   "execution_count": null,
   "metadata": {
    "colab": {
     "base_uri": "https://localhost:8080/",
     "height": 317
    },
    "id": "vBh9gqjIHZGQ",
    "outputId": "368511b3-77e8-4d63-bcfb-e91bdfa122d7"
   },
   "outputs": [],
   "source": [
    "##Descripción de columnas del df\n",
    "melb_df.describe()"
   ]
  },
  {
   "cell_type": "markdown",
   "metadata": {
    "id": "PDJ9JhkcHZGQ"
   },
   "source": [
    "Con describe() notamos que hay datos faltantes en BuldingArea , YearBuilt y CouncilArea."
   ]
  },
  {
   "cell_type": "markdown",
   "metadata": {
    "id": "1qs90ybvHZGQ"
   },
   "source": [
    "## DATOS RUIDOSOS"
   ]
  },
  {
   "cell_type": "code",
   "execution_count": null,
   "metadata": {
    "colab": {
     "base_uri": "https://localhost:8080/"
    },
    "id": "p_Sp-X7GHZGR",
    "outputId": "c201bac2-a6a2-4c87-9e79-c520b66db44a"
   },
   "outputs": [],
   "source": [
    "cols = melb_df[melb_df == 0].count(axis=0)\n",
    "cols[cols > 0]\n",
    "\n"
   ]
  },
  {
   "cell_type": "markdown",
   "metadata": {
    "id": "1WBdUsaFlUV-"
   },
   "source": [
    "###Notamos que:\n",
    "- La columna Distancia puede ser 0 porque quizás esas son propiedades que están en el centro. Decisión: No realizamos acción sobre estos valores.\n",
    "\n",
    "- Lo mismo para cars, puede ser que las propiedades no tengan sitio de estacionamiento.Decisión: dejar todos los valores que originalmente eran ceros como 0. \n",
    "\n",
    "- Bedroom2 esta sacada de otra database. Luego de explorar la variable observamos que hacía mucho ruido porque tenia valores extraños con respecto a \"Rooms \". Debido a que ya tenemos la variable Rooms que nos puede dar una idea de la misma información y que proviene del la misma fuente que el resto de los datos decidimos quedarnos con la columna \"Rooms\" y descartar \"Bedroom2\".\n",
    "\n",
    "- Hay Valores faltantes que puedo imputar en Bathroom. Decisión: imputar con el valor de 1 Pensando que al menos un baño debería existir en toda propiedad.\n",
    "\n",
    "- En Building area hay datos faltantes. No puede haber ceros, por lo que analizamos más adelante una imputación. \n",
    "\n",
    "- Landsize puede que sea cero si son los de departamentos y por eso no esta el registro pero deberiamos chequear. Decisión: imputar por el valor del BuildingArea todos aquellos registros que tengan valor de buildingArea"
   ]
  },
  {
   "cell_type": "markdown",
   "metadata": {
    "id": "wdFKokRTHZGR"
   },
   "source": [
    "## Exploracion de las variables Bedroom2, Bathroom y Distance\n"
   ]
  },
  {
   "cell_type": "code",
   "execution_count": null,
   "metadata": {
    "colab": {
     "base_uri": "https://localhost:8080/",
     "height": 318
    },
    "id": "QJLgMtBXHZGS",
    "outputId": "e51b7edb-1bc8-487d-c1c6-7b53031baaf6"
   },
   "outputs": [],
   "source": [
    "# Veamos la distribución de los Dormitorios por  tipos de propiedad.\n",
    "\n",
    "sns.boxplot(data=melb_df, x='Bedroom2', y='Type')\n",
    "\n",
    "# DATOS RUIDOSOS. Hay de los 3 tipos de propiedades sin dormitorios. Algunas casas tienen más de 20 dormitorios."
   ]
  },
  {
   "cell_type": "code",
   "execution_count": null,
   "metadata": {
    "colab": {
     "base_uri": "https://localhost:8080/",
     "height": 452
    },
    "id": "5LrgD4gxHZGS",
    "outputId": "a321fb30-fbe6-48a4-a9e6-b64414baee57"
   },
   "outputs": [],
   "source": [
    "# Miremos en forma conjunta las variables Rooms y Bedroom2.\n",
    "Bedroom2 = melb_df.Bedroom2\n",
    "Rooms = melb_df.Rooms\n",
    "pandas.crosstab(Bedroom2,Rooms)\n",
    "\n"
   ]
  },
  {
   "cell_type": "markdown",
   "metadata": {
    "id": "VSjxq-hLHZGS"
   },
   "source": [
    "- Parece que Bedroom mete mucho ruido.\n",
    "- Decidimos usar la variable Rooms que nos da informacion similar y tirar la variable Bedroom2"
   ]
  },
  {
   "cell_type": "code",
   "execution_count": null,
   "metadata": {
    "colab": {
     "base_uri": "https://localhost:8080/",
     "height": 247
    },
    "id": "Xw4xnHgWHZGT",
    "outputId": "8eb72a81-b529-4fd5-802f-7473c479b1bb"
   },
   "outputs": [],
   "source": [
    "#Eliminamos la columna Beedroom2\n",
    "\n",
    "melb_df.drop(['Bedroom2'], axis=1, inplace=True)\n",
    "melb_df.sample(3,random_state=123)"
   ]
  },
  {
   "cell_type": "code",
   "execution_count": null,
   "metadata": {
    "colab": {
     "base_uri": "https://localhost:8080/",
     "height": 318
    },
    "id": "SD_H--o8HZGT",
    "outputId": "db1478b1-ca51-48ed-f438-c89c7ed27ba5"
   },
   "outputs": [],
   "source": [
    "# Exploración con Boxplot de los baños de acuerdo con el tipo de propiedad:\n",
    "sns.boxplot(data=melb_df, x='Bathroom', y='Type')"
   ]
  },
  {
   "cell_type": "code",
   "execution_count": null,
   "metadata": {
    "colab": {
     "base_uri": "https://localhost:8080/",
     "height": 359
    },
    "id": "dH4Y6XeiHZGT",
    "outputId": "790d18bf-f35e-4a38-cfe1-21b7006901cc"
   },
   "outputs": [],
   "source": [
    "# Veamos valores cruzados de Rooms y Bathrooms\n",
    "\n",
    "Bathroom = melb_df.Bathroom\n",
    "Rooms= melb_df.Rooms\n",
    "pandas.crosstab(Bathroom,Rooms)"
   ]
  },
  {
   "cell_type": "code",
   "execution_count": null,
   "metadata": {
    "id": "aNelxBYcHZGU"
   },
   "outputs": [],
   "source": [
    "# Como hay valores 0 para baños le vamos a poner el valor de 1 para \n",
    "# que todas las propiedades tengan al menos un baño.\n",
    "melb_df.loc[melb_df.Bathroom<1,'Bathroom']=1"
   ]
  },
  {
   "cell_type": "code",
   "execution_count": null,
   "metadata": {
    "colab": {
     "base_uri": "https://localhost:8080/",
     "height": 328
    },
    "id": "sxt7CwX4HZGU",
    "outputId": "c62f2017-196b-46cb-a503-9b9dd6e5d4d0"
   },
   "outputs": [],
   "source": [
    "# Chequeamos que no haya propiedades sin baño.\n",
    "bathroom2 = melb_df.Bathroom\n",
    "pandas.crosstab(bathroom2,Rooms)"
   ]
  },
  {
   "cell_type": "markdown",
   "metadata": {
    "id": "Z6FbE9GYHZGU"
   },
   "source": [
    "Como podemos observar en la siguiente celda de código, en el dataset editado no está la variable Bedroom2 y la categoria Bathroom no tiene ceros."
   ]
  },
  {
   "cell_type": "code",
   "execution_count": null,
   "metadata": {
    "colab": {
     "base_uri": "https://localhost:8080/",
     "height": 287
    },
    "id": "QbXXEhfRHZGU",
    "outputId": "51c53707-306f-4ad3-ddda-8004839bef9d"
   },
   "outputs": [],
   "source": [
    "#data frame original\n",
    "display(melb_data.describe().loc[['count','mean', 'min']])\n",
    "#data frame modificada\n",
    "display(melb_df.describe().loc[['count','mean', 'min']])"
   ]
  },
  {
   "cell_type": "markdown",
   "metadata": {
    "id": "l157bqTuHZGV"
   },
   "source": [
    "## Analizaremos la variable car."
   ]
  },
  {
   "cell_type": "code",
   "execution_count": null,
   "metadata": {
    "colab": {
     "base_uri": "https://localhost:8080/",
     "height": 301
    },
    "id": "jpTE8D2gHZGV",
    "outputId": "23bc8367-8dd1-4497-ab17-2b2403cba2f6"
   },
   "outputs": [],
   "source": [
    "#  Realizamos un boxplot de Car por tipo de propiedad\n",
    "sns.boxplot(data=melb_data[melb_data.Car < 5], x='Car', y='Type');"
   ]
  },
  {
   "cell_type": "code",
   "execution_count": null,
   "metadata": {
    "colab": {
     "base_uri": "https://localhost:8080/",
     "height": 142
    },
    "id": "Go3Aqqt3HZGV",
    "outputId": "e1b9d670-3bd2-4079-dcdc-218301584282"
   },
   "outputs": [],
   "source": [
    "relevant_cols = ['Type', 'Rooms', 'Distance', 'Landsize', 'Price', 'Car']\n",
    "\n",
    "# Obtengo las propiedades sin cocheras para explorar un poco de qué se tratan.\n",
    "# Sin embargo Car=0, se refiere a propiedades sin cocheras por lo que \n",
    "# obtamos no imputar\n",
    "data = melb_df[melb_df.Car == 0]\n",
    "data[relevant_cols].sample(3)"
   ]
  },
  {
   "cell_type": "markdown",
   "metadata": {
    "id": "957tXF2_HZGV"
   },
   "source": [
    "## DATOS FALTANTES"
   ]
  },
  {
   "cell_type": "code",
   "execution_count": null,
   "metadata": {
    "colab": {
     "base_uri": "https://localhost:8080/"
    },
    "id": "PEMbkw9wHZGV",
    "outputId": "5555eb04-89ac-4bce-ba88-c45a6be7f9a6"
   },
   "outputs": [],
   "source": [
    "melb_df.info()"
   ]
  },
  {
   "cell_type": "code",
   "execution_count": null,
   "metadata": {
    "colab": {
     "base_uri": "https://localhost:8080/"
    },
    "id": "gieezQ9gHZGV",
    "outputId": "ed8f08f2-f61e-402a-b38b-1c224934b664"
   },
   "outputs": [],
   "source": [
    "# Se observa valores faltantes en:\n",
    "missing_values_count= melb_df.isna().sum() \n",
    "missing_values_count[missing_values_count>0]\n",
    "# valores faltantes en Car(62), BuildingArea(6450) YearBuilt(5375) y CouncilArea(1369)"
   ]
  },
  {
   "cell_type": "code",
   "execution_count": null,
   "metadata": {
    "colab": {
     "base_uri": "https://localhost:8080/"
    },
    "id": "D7kCirWHHZGW",
    "outputId": "0ea27d81-51c6-4c01-b982-7ac4cc0c1d51"
   },
   "outputs": [],
   "source": [
    "total_cells = numpy.product(melb_df.shape)\n",
    "total_missing = missing_values_count.sum()\n",
    "\n",
    "# porcentaje de datos faltantes---\n",
    "(total_missing/total_cells) * 100\n"
   ]
  },
  {
   "cell_type": "code",
   "execution_count": null,
   "metadata": {
    "colab": {
     "base_uri": "https://localhost:8080/",
     "height": 504
    },
    "id": "n4dvPBA-HZGW",
    "outputId": "b3bd35da-b339-42ef-d44b-53c64e77131e"
   },
   "outputs": [],
   "source": [
    "##Exploramos gráficamente datos faltantes de columnas del df \n",
    "import missingno as msno\n",
    "msno.bar(melb_df,figsize=(12, 6), fontsize=12, color='steelblue')"
   ]
  },
  {
   "cell_type": "code",
   "execution_count": null,
   "metadata": {
    "colab": {
     "base_uri": "https://localhost:8080/",
     "height": 464
    },
    "id": "PYGspJVKHZGW",
    "outputId": "9911d0d0-ef33-44e2-e433-80ee9070d4eb"
   },
   "outputs": [],
   "source": [
    "msno.matrix(melb_df.sample(200),figsize=(12, 6), fontsize=12, color=[0.5,0,0])"
   ]
  },
  {
   "cell_type": "code",
   "execution_count": null,
   "metadata": {
    "id": "-a4wr3chKS9X"
   },
   "outputs": [],
   "source": [
    "# Imputamos con 0 los valores NAn correspondientes a Car porque interpretamos \n",
    "# que las personas que no completaron la columna de cochera dejaron la columna\n",
    "# vacia por no tener espacio de estacionamiento disponible. \n",
    "# y ademas porque los datos representan una pequeña fraccion del DF \n",
    "# original (62 /13580 datos).\n",
    "melb_df.Car.fillna(0, inplace=True)"
   ]
  },
  {
   "cell_type": "code",
   "execution_count": null,
   "metadata": {
    "colab": {
     "base_uri": "https://localhost:8080/",
     "height": 542
    },
    "id": "jBSP1bXHHZGW",
    "outputId": "d86d580f-42b7-44dc-de99-55f8c33f226b"
   },
   "outputs": [],
   "source": [
    "# Realizamos un histograma para ver la distribucion de la variable \"Car\" y\n",
    "# explorar datos ruidosos\n",
    "\n",
    "import plotly.express as px\n",
    "\n",
    "fig = px.histogram(melb_df, x='Car', nbins=100, \\\n",
    "                   labels={'value': 'Car', 'count': 'number of houses'},\\\n",
    "                   marginal='violin', \n",
    "                   title='Distribución de las propiedades con lugares de estacionamiento en Melbourne',\n",
    "                   color_discrete_sequence=px.colors.sequential.RdBu)\n",
    "\n",
    "fig.update_layout(showlegend=False)\n",
    "\n",
    "fig.show()"
   ]
  },
  {
   "cell_type": "code",
   "execution_count": null,
   "metadata": {
    "colab": {
     "base_uri": "https://localhost:8080/",
     "height": 173
    },
    "id": "6Cub4hPwHZGY",
    "outputId": "2deb6a4f-449e-42fc-b649-0e228c0c409c"
   },
   "outputs": [],
   "source": [
    "Car = melb_df.Car\n",
    "Type = melb_df.Type\n",
    "pandas.crosstab(Type,Car)\n",
    "\n",
    "# Hay muchas casas sin cochera (raro) y hay casas con 10 cocheras"
   ]
  },
  {
   "cell_type": "code",
   "execution_count": null,
   "metadata": {
    "colab": {
     "base_uri": "https://localhost:8080/"
    },
    "id": "gJwA2GuJOMbw",
    "outputId": "0b046cf9-c2e9-4ede-99e2-b199da2f4144"
   },
   "outputs": [],
   "source": [
    "# Exploramos los valores con Estacionamientos mayores a 4 porque nos parecia \n",
    "# que podian llegar a ser datos poco frecuentes. \n",
    "# Vemos que sí (solo representan 138 datos del total=13580). \n",
    "# Al resultar ser cantidades pequeñas dentro del set de datos decidimos no \n",
    "# accionar ya que pensamos que no poseen el peso suficiente para afectar la\n",
    "# prediccion sobre el valor de las propiedades.  \n",
    "\n",
    "melb_df[melb_df['Car']>4].shape"
   ]
  },
  {
   "cell_type": "markdown",
   "metadata": {
    "id": "wuVbKAuxYpjp"
   },
   "source": [
    "Esto de arriba lo cambiamos y decidimos hacer un filtrado de extremos porque esta pedido en el punto 1. (como para cumplir)"
   ]
  },
  {
   "cell_type": "code",
   "execution_count": null,
   "metadata": {
    "colab": {
     "base_uri": "https://localhost:8080/"
    },
    "id": "dB0J1T-WY2JZ",
    "outputId": "44096d54-7951-41e6-93a6-2f358e4661eb"
   },
   "outputs": [],
   "source": [
    "columns = ['Bathroom','Car', \"Landsize\"]\n",
    "limits = {}\n",
    "for index, column in enumerate(columns):\n",
    "  Q1 = melb_df[column].quantile(0.25)\n",
    "  Q3 = melb_df[column].quantile(0.75)\n",
    "  IQR = Q3 - Q1\n",
    "\n",
    "  limits[column] = [(Q1 - 1.5 * IQR), (Q3 + 1.5 * IQR)]\n",
    "  print(\"{}: {}\".format(column, limits[column]))\n",
    "\n",
    "  ### Nos queda un rango de baños y de Car con 3,5 como maximo###\n"
   ]
  },
  {
   "cell_type": "code",
   "execution_count": null,
   "metadata": {
    "colab": {
     "base_uri": "https://localhost:8080/",
     "height": 464
    },
    "id": "BYOJLu5bHZGZ",
    "outputId": "785f55b5-a106-4c48-de33-7fd4389bcdc6"
   },
   "outputs": [],
   "source": [
    "sorted = melb_df.sort_values('BuildingArea')\n",
    "msno.matrix(sorted,figsize=(12, 6), fontsize=12, color=[0.5,0,0]) \n",
    "\n",
    "#valores de BuildingArea ordenados"
   ]
  },
  {
   "cell_type": "code",
   "execution_count": null,
   "metadata": {
    "colab": {
     "base_uri": "https://localhost:8080/",
     "height": 294
    },
    "id": "IW1wReF9HZGZ",
    "outputId": "9e67043b-cf9c-4ad6-8c84-a00c29f2d3d8"
   },
   "outputs": [],
   "source": [
    "##Veo correlacion entre datos faltantes de las diferentes variables\n",
    "msno.heatmap(melb_df,figsize=(6, 3), fontsize=12)"
   ]
  },
  {
   "cell_type": "code",
   "execution_count": null,
   "metadata": {
    "colab": {
     "base_uri": "https://localhost:8080/"
    },
    "id": "nIpJ08HftFsZ",
    "outputId": "b8836bb1-c2c5-4b7c-9572-7b0348f39a5c"
   },
   "outputs": [],
   "source": [
    "#Vemos cuantos valores de Landsize eran cero\n",
    "melb_df[melb_df[\"Landsize\"] == 0][\"Landsize\"].count()\n"
   ]
  },
  {
   "cell_type": "code",
   "execution_count": null,
   "metadata": {
    "colab": {
     "base_uri": "https://localhost:8080/"
    },
    "id": "P3RpJfiKtbA7",
    "outputId": "9060a84f-6bcf-4b36-a86b-d6be60967480"
   },
   "outputs": [],
   "source": [
    "# Vamos a imputarlos por el valor de building area pero primero vemos si\n",
    "# tenemos valores de BuildingArea para todas las filas.\n",
    "\n",
    "melb_df[(melb_df[\"Landsize\"] == 0) & (melb_df[\"BuildingArea\"].isna())][\"Landsize\"].count()\n",
    "\n",
    "# Hay 878 valores Nan en Building area que no se van a poder imputar en Landsize"
   ]
  },
  {
   "cell_type": "code",
   "execution_count": null,
   "metadata": {
    "id": "xS8d1Dgwr99P"
   },
   "outputs": [],
   "source": [
    "# Vamos a imputar los 0 de Landsize por el valor de BuildingArea para aquellos\n",
    "# datos que tengan datos de BuildingArea \n",
    "#porque algunos datos de BUIlding Area no tenian valor (Nan)\n",
    "\n",
    "import math\n",
    "def imputar_landsize_con_building_area(row):\n",
    "  if row[\"Landsize\"] == 0 and not math.isnan(row[\"BuildingArea\"]):\n",
    "    row[\"Landsize\"] = row[\"BuildingArea\"]\n",
    "  return row\n",
    "\n",
    "melb_df=melb_df.apply(lambda row: imputar_landsize_con_building_area(row), axis=1)\n"
   ]
  },
  {
   "cell_type": "markdown",
   "metadata": {
    "id": "KNNzwlPruwFx"
   },
   "source": [
    "Con los 878 valores que son Nan en LandSize hay que decidir que hacer. Decidimos imputar con la mediana usando Simple Imputer. Previamente sacamos 3 valores extremos de Landsize."
   ]
  },
  {
   "cell_type": "code",
   "execution_count": null,
   "metadata": {
    "id": "LyTFnQoj_yI1"
   },
   "outputs": [],
   "source": [
    "#Vamos a sacar 3 valores de Landsize que nos hacen mucho ruido porque son extremos\n",
    "melb_df=melb_df[melb_df[\"Landsize\"] < 50000]\n"
   ]
  },
  {
   "cell_type": "code",
   "execution_count": null,
   "metadata": {
    "id": "fSEL7J4ptOaD"
   },
   "outputs": [],
   "source": [
    "##con los 878 valores que son Nan en LAndsize hay que decidir que hacer. Decidimos imputar con simple imputer con el valor de la mediana de la columna landsize porque hay mucha dispersion de los valores \n",
    "from sklearn.impute import SimpleImputer\n"
   ]
  },
  {
   "cell_type": "code",
   "execution_count": null,
   "metadata": {
    "id": "OpVPUx_zGdUZ"
   },
   "outputs": [],
   "source": [
    "# Setting strategy to 'mean'\n",
    "median_imputer = SimpleImputer(strategy='median', missing_values=0)\n",
    "\n",
    "melb_df[\"Landsize\"] = median_imputer.fit_transform(melb_df[[\"Landsize\"]])\n",
    "\n",
    "#msno.bar(melb_df, figsize=(12, 6), fontsize=12, color='steelblue');\n",
    "#msno.matrix(melb_df.sample(200),figsize=(12, 6), fontsize=12, color=[0.5,0,0])"
   ]
  },
  {
   "cell_type": "code",
   "execution_count": null,
   "metadata": {
    "colab": {
     "base_uri": "https://localhost:8080/"
    },
    "id": "UriTNrTN_r54",
    "outputId": "6ac7b3af-3b84-455a-deac-66fe727f9703"
   },
   "outputs": [],
   "source": [
    "melb_df[\"Landsize\"].describe()"
   ]
  },
  {
   "cell_type": "markdown",
   "metadata": {
    "id": "D_KRst27HZGZ"
   },
   "source": [
    "#Columnas elegidas por mi\n",
    "-'Price'\n",
    "-'Rooms'\n",
    "-'Postcode'\n",
    "-'Type'\n",
    "-'Bedroom2'\n",
    "-'Bathroom'\n",
    "-'Landsize'\n",
    "-'YearBuilt'\n",
    "-'BuildingArea'\n",
    "\n",
    "\n",
    "'Date' depende del periodo de ventas considerado\n",
    "-'Suburb' No conozco los nombres de los suburbios (quizas reemplazarlos con el poscode)\n",
    "'Propertycount' no me parece que sea relevante. Quizás puedo asumir que las propiedades mas cercanas al centro son de mayor densidad de construcciones. \n",
    "'Lattitude',\n",
    "'Longtitude'\n",
    "'Car'\n",
    "'Distance'\n",
    "'CouncilArea'\n",
    "'Regionname'\n",
    "\n",
    "Columnas no elegidas\n",
    "'Address' porque es un unico valor exclusivo de cada propiedad que no se repite. Podria saber la ubicacion por ejemplo con el zipcode, poscode\n",
    "'Regionname' podria sacar esta info con Lattitude y Longitude\n",
    "'Method' Saber cual es el metodo de venta No me parece relevante para el problema de estimar el precio de una propiedad.\n",
    "'SellerG' Tampoco me parece relevante para el problema de estimacion precios de venta.\n",
    "\n"
   ]
  },
  {
   "cell_type": "code",
   "execution_count": null,
   "metadata": {
    "colab": {
     "base_uri": "https://localhost:8080/"
    },
    "id": "8090kRkgHZGZ",
    "outputId": "674058a5-1ecf-46f1-ccf5-e8a0fad581b6"
   },
   "outputs": [],
   "source": [
    "melb_df.columns\n"
   ]
  },
  {
   "cell_type": "code",
   "execution_count": null,
   "metadata": {
    "colab": {
     "base_uri": "https://localhost:8080/"
    },
    "id": "KmxSWfnzHZGZ",
    "outputId": "d0d877fc-ca8c-4171-84e6-6284e7ba1129"
   },
   "outputs": [],
   "source": [
    "melb_df['Type'].value_counts()"
   ]
  },
  {
   "cell_type": "code",
   "execution_count": null,
   "metadata": {
    "colab": {
     "base_uri": "https://localhost:8080/"
    },
    "id": "oGlVuSIAHZGa",
    "outputId": "b812b319-ce8a-4792-f06a-aac38a984003"
   },
   "outputs": [],
   "source": [
    "# Hay pocos valores para Eastern Victoria, Northen Victoria y Western Victoria. \n",
    "# Los agruparemos todos bajo el mismo nombre \"Victoria\".\n",
    "melb_df['Regionname'].value_counts()"
   ]
  },
  {
   "cell_type": "code",
   "execution_count": null,
   "metadata": {
    "id": "WQs3ze_JHZGa"
   },
   "outputs": [],
   "source": [
    "\n",
    "melb_df['Regionname'].replace('Eastern Victoria', 'Victoria', inplace=True)\n",
    "melb_df['Regionname'].replace('Northern Victoria', 'Victoria',inplace=True)\n",
    "melb_df['Regionname'].replace('Western Victoria', 'Victoria',inplace=True)\n"
   ]
  },
  {
   "cell_type": "code",
   "execution_count": null,
   "metadata": {
    "colab": {
     "base_uri": "https://localhost:8080/"
    },
    "id": "M6BWWkzeHZGa",
    "outputId": "0ba2080f-abf9-401e-ec70-ad1c9965ec64"
   },
   "outputs": [],
   "source": [
    "melb_df['Regionname'].value_counts()"
   ]
  },
  {
   "cell_type": "code",
   "execution_count": null,
   "metadata": {
    "colab": {
     "base_uri": "https://localhost:8080/"
    },
    "id": "-4822rK1HZGa",
    "outputId": "5b3dd807-847c-4cd2-ea1a-3b7bb54ee747"
   },
   "outputs": [],
   "source": [
    "melb_df['Postcode'].value_counts()"
   ]
  },
  {
   "cell_type": "code",
   "execution_count": null,
   "metadata": {
    "colab": {
     "base_uri": "https://localhost:8080/"
    },
    "id": "wmLLrn_WHZGa",
    "outputId": "28f311a2-df85-4ef4-fa47-0cf8b2918e31"
   },
   "outputs": [],
   "source": [
    "pandas.set_option('max_rows',314)\n",
    "melb_df.groupby('Postcode')['Suburb'].value_counts()"
   ]
  },
  {
   "cell_type": "code",
   "execution_count": null,
   "metadata": {
    "colab": {
     "base_uri": "https://localhost:8080/",
     "height": 373
    },
    "id": "q_w42ZbBHZGb",
    "outputId": "d83fa771-1c34-442a-a6e6-7eaa8f289a23"
   },
   "outputs": [],
   "source": [
    "sns.displot(melb_df, x='Price', color=\"blue\", aspect=2)\n",
    "plt.title('Distribución de Precio  de las propiedades (en dolares)')\n",
    "plt.xlabel('Precio')\n",
    "plt.show()"
   ]
  },
  {
   "cell_type": "code",
   "execution_count": null,
   "metadata": {
    "colab": {
     "base_uri": "https://localhost:8080/"
    },
    "id": "Zfi2VHkTHZGb",
    "outputId": "02bb52e2-ceff-42eb-d065-cf9e4d0999a5"
   },
   "outputs": [],
   "source": [
    "# Vemos que tipos de suburbios hay\n",
    "melb_df.Suburb.describe()"
   ]
  },
  {
   "cell_type": "code",
   "execution_count": null,
   "metadata": {
    "colab": {
     "base_uri": "https://localhost:8080/"
    },
    "id": "TLY-87H5HZGb",
    "outputId": "d83d1d15-058f-4971-fc7b-6b11b1aa3ed8"
   },
   "outputs": [],
   "source": [
    "melb_df.Price.describe().round()\n"
   ]
  },
  {
   "cell_type": "code",
   "execution_count": null,
   "metadata": {
    "id": "_3nAqUD0HZGb"
   },
   "outputs": [],
   "source": [
    "filt_melb_df=melb_df[melb_df['Price']<3500000]"
   ]
  },
  {
   "cell_type": "code",
   "execution_count": null,
   "metadata": {
    "colab": {
     "base_uri": "https://localhost:8080/",
     "height": 372
    },
    "id": "nHJ00b6uHZGc",
    "outputId": "36089fad-b9b4-4436-e456-7975ae1390b5"
   },
   "outputs": [],
   "source": [
    "sns.displot(filt_melb_df, x='Price', color=\"blue\", aspect=2)\n",
    "plt.title('Distribución de Precio  de las propiedades (en dolares)')\n",
    "plt.xlabel('Precio')\n",
    "plt.show()"
   ]
  },
  {
   "cell_type": "code",
   "execution_count": null,
   "metadata": {
    "colab": {
     "base_uri": "https://localhost:8080/"
    },
    "id": "KqiqMI-iHZGc",
    "outputId": "a3b99bc8-97c1-40c2-ec7b-79085aab6044",
    "scrolled": true
   },
   "outputs": [],
   "source": [
    "filt_melb_df['Price'].describe().round()"
   ]
  },
  {
   "cell_type": "code",
   "execution_count": null,
   "metadata": {
    "colab": {
     "base_uri": "https://localhost:8080/",
     "height": 922
    },
    "id": "6v2S-LcnHZGc",
    "outputId": "276bf51d-dfd1-478b-b7cb-abec3577db41"
   },
   "outputs": [],
   "source": [
    "g = sns.PairGrid(filt_melb_df, vars=[\"Price\", \"BuildingArea\",'Rooms','Bathroom','Landsize'], hue='Type')\n",
    "\n",
    "g.map_diag(sns.histplot)\n",
    "g.map_offdiag(sns.scatterplot)\n",
    "\n"
   ]
  },
  {
   "cell_type": "code",
   "execution_count": null,
   "metadata": {
    "colab": {
     "base_uri": "https://localhost:8080/"
    },
    "id": "DjJJccIxHZGc",
    "outputId": "bd602a0f-ba5b-41b8-9de0-9c29a53a1bc8"
   },
   "outputs": [],
   "source": [
    "melb_df = filt_melb_df.copy()\n",
    "melb_df.Rooms.describe()"
   ]
  },
  {
   "cell_type": "code",
   "execution_count": null,
   "metadata": {
    "colab": {
     "base_uri": "https://localhost:8080/"
    },
    "id": "cBN5nu6wHZGd",
    "outputId": "700efdbd-eb38-4b68-81fc-65a1763095d5"
   },
   "outputs": [],
   "source": [
    "melb_df.Bathroom.describe() #hay propiedades sin baño y hay hasta 8 baños max"
   ]
  },
  {
   "cell_type": "code",
   "execution_count": null,
   "metadata": {
    "colab": {
     "base_uri": "https://localhost:8080/"
    },
    "id": "iqYfrRlcHZGd",
    "outputId": "af7df97d-99b2-494b-86b2-b09fcc7980c8"
   },
   "outputs": [],
   "source": [
    "melb_df['Bathroom'].value_counts()"
   ]
  },
  {
   "cell_type": "code",
   "execution_count": null,
   "metadata": {
    "colab": {
     "base_uri": "https://localhost:8080/"
    },
    "id": "GWur4NP2HZGd",
    "outputId": "258beeca-08f3-4168-ae4e-d6c348d50504"
   },
   "outputs": [],
   "source": [
    "melb_df.Landsize.describe() ##hay valores de 0. Chequear si son valores ingresados no erroneos"
   ]
  },
  {
   "cell_type": "code",
   "execution_count": null,
   "metadata": {
    "colab": {
     "base_uri": "https://localhost:8080/"
    },
    "id": "BDoMA7IVHZGd",
    "outputId": "968ce12a-1ece-48d1-c455-d14423a03cdf"
   },
   "outputs": [],
   "source": [
    "melb_df[\"YearBuilt\"]= melb_df[\"YearBuilt\"].astype(str)\n",
    "melb_df.YearBuilt.describe()"
   ]
  },
  {
   "cell_type": "code",
   "execution_count": null,
   "metadata": {
    "colab": {
     "base_uri": "https://localhost:8080/"
    },
    "id": "HHNFvlkgHZGe",
    "outputId": "a8137e61-7df1-4aa0-fbb8-a70bc5e8782e"
   },
   "outputs": [],
   "source": [
    "melb_df.BuildingArea.describe()"
   ]
  },
  {
   "cell_type": "code",
   "execution_count": null,
   "metadata": {
    "colab": {
     "base_uri": "https://localhost:8080/",
     "height": 912
    },
    "id": "N7TITd-EHZGe",
    "outputId": "b263c406-0c52-48f9-c32b-1dc85fce2c27"
   },
   "outputs": [],
   "source": [
    "sns.pairplot(melb_df, vars=[\"Price\", \"BuildingArea\",'Rooms','Bathroom','Landsize'], hue='Type', height=2.5)"
   ]
  },
  {
   "cell_type": "markdown",
   "metadata": {
    "id": "esgGsxqzHZGe"
   },
   "source": [
    "## SACAR NULOS, UNIFICAR ZIPCODES y chequear que no haya valores raros."
   ]
  },
  {
   "cell_type": "code",
   "execution_count": null,
   "metadata": {
    "colab": {
     "base_uri": "https://localhost:8080/",
     "height": 419
    },
    "id": "P6OJh-MRHZGe",
    "outputId": "785d18a8-b0b2-47cb-d90f-4a5dbee32421"
   },
   "outputs": [],
   "source": [
    "airbnb_df= airbnb_df[airbnb_df['zipcode'].notnull()]\n",
    "airbnb_df"
   ]
  },
  {
   "cell_type": "code",
   "execution_count": null,
   "metadata": {
    "colab": {
     "base_uri": "https://localhost:8080/",
     "height": 419
    },
    "id": "65ejldJvHZGe",
    "outputId": "e15ea824-ba45-4ce8-80eb-1133a7f10cdb"
   },
   "outputs": [],
   "source": [
    "zipcodes_num= airbnb_df[airbnb_df['zipcode'].apply(lambda x: (isinstance(x, int)) | (isinstance(x, float)))]\n",
    "zipcodes_num"
   ]
  },
  {
   "cell_type": "code",
   "execution_count": null,
   "metadata": {
    "colab": {
     "base_uri": "https://localhost:8080/",
     "height": 419
    },
    "id": "d9lcOQoCHZGf",
    "outputId": "de862b0c-e1d1-40c9-debd-cc32ba1e7baf"
   },
   "outputs": [],
   "source": [
    "zipcodes_num=zipcodes_num.astype({'zipcode':'int64'})\n",
    "zipcodes_num"
   ]
  },
  {
   "cell_type": "code",
   "execution_count": null,
   "metadata": {
    "colab": {
     "base_uri": "https://localhost:8080/"
    },
    "id": "Z4dum7VoHZGf",
    "outputId": "2442aa05-9848-4923-cc17-25aaa31052b3"
   },
   "outputs": [],
   "source": [
    "all_zipcodes=zipcodes_num['zipcode'].value_counts()\n",
    "all_zipcodes"
   ]
  },
  {
   "cell_type": "code",
   "execution_count": null,
   "metadata": {
    "colab": {
     "base_uri": "https://localhost:8080/",
     "height": 419
    },
    "id": "U5etL904HZGf",
    "outputId": "308614ff-d23e-473d-cc16-d43ee78bf1b2"
   },
   "outputs": [],
   "source": [
    "filtered_zipcodes= zipcodes_num[zipcodes_num['zipcode'].isin(all_zipcodes[all_zipcodes >= 5].index)]\n",
    "filtered_zipcodes"
   ]
  },
  {
   "cell_type": "code",
   "execution_count": null,
   "metadata": {
    "colab": {
     "base_uri": "https://localhost:8080/",
     "height": 1000
    },
    "id": "pibQ9rQ6HZGf",
    "outputId": "324b4c98-2f50-4d76-8713-a2c228267073"
   },
   "outputs": [],
   "source": [
    "filtered_zipcodes_avg=filtered_zipcodes.groupby('zipcode')['review_scores_location'].mean().reset_index()\n",
    "filtered_zipcodes_avg"
   ]
  },
  {
   "cell_type": "code",
   "execution_count": null,
   "metadata": {
    "colab": {
     "base_uri": "https://localhost:8080/",
     "height": 1000
    },
    "id": "3BGaxzRaHZGf",
    "outputId": "0d9ba973-477a-4f16-860d-b01d7825f8bd"
   },
   "outputs": [],
   "source": [
    "filtered_zipcodes_avg=filtered_zipcodes_avg.rename(columns={'zipcode': 'Postcode'})\n",
    "filtered_zipcodes_avg"
   ]
  },
  {
   "cell_type": "code",
   "execution_count": null,
   "metadata": {
    "colab": {
     "base_uri": "https://localhost:8080/",
     "height": 660
    },
    "id": "Y4yqFefaHZGg",
    "outputId": "41e79e2b-622f-44c1-cf2f-b68bf6f98ff1"
   },
   "outputs": [],
   "source": [
    "###Renombrar zipcode a postcode\n",
    "\n",
    "result = pandas.merge(melb_df, filtered_zipcodes_avg, on=\"Postcode\",how=\"left\")\n",
    "result "
   ]
  },
  {
   "cell_type": "markdown",
   "metadata": {
    "id": "ismngxPcfoWb"
   },
   "source": [
    "## Ejercicio 2: Imputación\n",
    "\n",
    "1. Imputar los valores faltantes de la columna CouncilArea en base a la información presente en Suburb. (Si en el punto anterior no seleccionó ninguna de estas variables, agréguelas ahora el conjunto de datos).\n",
    "\n",
    "2. Imputar los valores faltantes de la(s) columna(s) que se agregaron a partir del conjunto de datos de AirBnB.\n",
    "\n"
   ]
  },
  {
   "cell_type": "markdown",
   "metadata": {
    "id": "Ss7I-obpHZGg"
   },
   "source": [
    "## ejercicio 2.1"
   ]
  },
  {
   "cell_type": "markdown",
   "metadata": {
    "id": "GQFbncNepPGO"
   },
   "source": [
    "Revisamos primero las cantidades de filas sin councilArea agrupándolas por Postcode"
   ]
  },
  {
   "cell_type": "code",
   "execution_count": null,
   "metadata": {
    "colab": {
     "base_uri": "https://localhost:8080/",
     "height": 1000
    },
    "id": "_pVdJRGGpM4d",
    "outputId": "e838105c-a260-4ec3-983b-5775a19219c2"
   },
   "outputs": [],
   "source": [
    "result[result['CouncilArea'].isna()].groupby('Postcode').count()"
   ]
  },
  {
   "cell_type": "markdown",
   "metadata": {
    "id": "iibTWLfupgGU"
   },
   "source": [
    "Revisamos algunos ejemplos de esos postcodes"
   ]
  },
  {
   "cell_type": "code",
   "execution_count": null,
   "metadata": {
    "colab": {
     "base_uri": "https://localhost:8080/",
     "height": 244
    },
    "id": "V8x4XDApmJQp",
    "outputId": "870ccf59-eb77-4df7-8d51-44c0497774a4"
   },
   "outputs": [],
   "source": [
    "result[result['Postcode']==3042].groupby([\"Suburb\", \"CouncilArea\"]).count()"
   ]
  },
  {
   "cell_type": "markdown",
   "metadata": {
    "id": "DLyA_uq5plrt"
   },
   "source": [
    "En la tabla de arriba podemos ver que podríamos imputar los valores nulos de CouncilArea para el Postcode 3042, teniendo en cuenta el Suburb. Si es \"Airport West\" al CouncilArea lo imputaríamos con \"Moonee Valley\", si es \"Keilor Park\" con \"Brimbank\" y, por último, si es \"Nidrie\" lo imputaríamos con \"Monee Valley\""
   ]
  },
  {
   "cell_type": "code",
   "execution_count": null,
   "metadata": {
    "colab": {
     "base_uri": "https://localhost:8080/",
     "height": 193
    },
    "id": "Lm29vEvtoJca",
    "outputId": "79cd64a1-672e-436a-cd43-2f789ae8c1dd"
   },
   "outputs": [],
   "source": [
    "result[result['Postcode']==3181].groupby([\"Suburb\", \"CouncilArea\"]).count()"
   ]
  },
  {
   "cell_type": "markdown",
   "metadata": {
    "id": "x6fXjyIsqGsV"
   },
   "source": [
    "En el caso de arriba tendríamos un problema para imputar el CouncilArea (con el Postcode 3181) en caso de que el Suburb sea \"Windsor\" pues no sabríamos si deberíamos imputarlo con \"Port Phillip\" o con \"Stonnington\". Lo que podríamos hacer es imputar de acuerdo a los porcentajes de los valores presentes."
   ]
  },
  {
   "cell_type": "markdown",
   "metadata": {
    "id": "TDfqsaUkqtKy"
   },
   "source": [
    "Para simplificar, y ser fieles a lo propuesto por el ejercicio, sólo imputaremos los valores nulos de CouncilArea con su correspondiente valor de Suburb."
   ]
  },
  {
   "cell_type": "code",
   "execution_count": null,
   "metadata": {
    "id": "KD00x7gDq4Q-"
   },
   "outputs": [],
   "source": [
    "def set_council_area_with_suburb(row):\n",
    "  if pandas.isnull(row[\"CouncilArea\"]):\n",
    "    row[\"CouncilArea\"] = row[\"Suburb\"]\n",
    "  return row\n",
    "\n",
    "result = result.apply(lambda row: set_council_area_with_suburb(row), axis=1)"
   ]
  },
  {
   "cell_type": "markdown",
   "metadata": {
    "id": "qiwZy7lTHZGh"
   },
   "source": [
    "## ejercicio 2.2"
   ]
  },
  {
   "cell_type": "code",
   "execution_count": null,
   "metadata": {
    "colab": {
     "base_uri": "https://localhost:8080/",
     "height": 728
    },
    "id": "yaLXFeQJir_M",
    "outputId": "cb6c8ef6-f418-431f-bde4-7069fe9f7bd6"
   },
   "outputs": [],
   "source": [
    "result[result[\"review_scores_location\"].isna()]"
   ]
  },
  {
   "cell_type": "markdown",
   "metadata": {
    "id": "uHaiwodwi0C3"
   },
   "source": [
    "Ahora debemos imputar los mas de 364 datos de \"review_scores_location\""
   ]
  },
  {
   "cell_type": "code",
   "execution_count": null,
   "metadata": {
    "colab": {
     "base_uri": "https://localhost:8080/"
    },
    "id": "FA769F4gir0j",
    "outputId": "9ba83834-d555-49ab-a50c-8e4edfc0a6ff"
   },
   "outputs": [],
   "source": [
    "groups_by_region=result.groupby(\"Regionname\")['review_scores_location'].mean()\n",
    "groups_by_region"
   ]
  },
  {
   "cell_type": "code",
   "execution_count": null,
   "metadata": {
    "id": "VpCLpAsWjAux"
   },
   "outputs": [],
   "source": [
    "#Iteramos sobre todas las regiones\n",
    "groups_to_iterate = groups_by_region.reset_index()\n",
    "for row in groups_to_iterate.values:\n",
    "  # Por cada region obtenemos el nombre de la region y el promedio que tenemos que setearle a las filas que pertenecen a la misma\n",
    "  # pero que tienen nulo el review_scores_location\n",
    "  region, mean = row[0], row[1]\n",
    "  # Obtenemos los números de las filas a las cuales les tenemos que setear un valor (deben tener un na en la columna\n",
    "  # review_scores location y deben pertenecer a la región en la que estamos iterando)\n",
    "  indexes_to_imput = result[(result[\"review_scores_location\"].isna()) & (result[\"Regionname\"] == region)].index.values\n",
    "  #Pisamos los valores nulos por la media de la region actual\n",
    "  result.iloc[indexes_to_imput, result.columns.get_loc(\"review_scores_location\")] = mean"
   ]
  },
  {
   "cell_type": "markdown",
   "metadata": {
    "id": "NBN7-5OIxjJW"
   },
   "source": [
    "## Ejercicio 3\n",
    "\n",
    "Crear y guardar un nuevo conjunto de datos con todas las transformaciones realizadas anteriormente."
   ]
  },
  {
   "cell_type": "code",
   "execution_count": null,
   "metadata": {
    "id": "O3Q8Z6z9d-GN"
   },
   "outputs": [],
   "source": [
    "result.to_csv('result_dataset.csv', index=False)"
   ]
  }
 ],
 "metadata": {
  "colab": {
   "collapsed_sections": [],
   "name": "Entregable2(parte1)_Grupo14_12Jun (1).ipynb",
   "provenance": []
  },
  "kernelspec": {
   "display_name": "Python 3",
   "language": "python",
   "name": "python3"
  },
  "language_info": {
   "codemirror_mode": {
    "name": "ipython",
    "version": 3
   },
   "file_extension": ".py",
   "mimetype": "text/x-python",
   "name": "python",
   "nbconvert_exporter": "python",
   "pygments_lexer": "ipython3",
   "version": "3.8.5"
  }
 },
 "nbformat": 4,
 "nbformat_minor": 1
}
